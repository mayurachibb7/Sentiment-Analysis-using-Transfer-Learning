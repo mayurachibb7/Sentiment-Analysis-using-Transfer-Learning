{
  "nbformat": 4,
  "nbformat_minor": 0,
  "metadata": {
    "colab": {
      "provenance": [],
      "machine_shape": "hm"
    },
    "kernelspec": {
      "name": "python3",
      "display_name": "Python 3"
    },
    "language_info": {
      "name": "python"
    },
    "accelerator": "GPU",
    "gpuClass": "standard",
    "widgets": {
      "application/vnd.jupyter.widget-state+json": {
        "2e164521b7e741f99f9c2bf4dd31e616": {
          "model_module": "@jupyter-widgets/controls",
          "model_name": "HBoxModel",
          "model_module_version": "1.5.0",
          "state": {
            "_dom_classes": [],
            "_model_module": "@jupyter-widgets/controls",
            "_model_module_version": "1.5.0",
            "_model_name": "HBoxModel",
            "_view_count": null,
            "_view_module": "@jupyter-widgets/controls",
            "_view_module_version": "1.5.0",
            "_view_name": "HBoxView",
            "box_style": "",
            "children": [
              "IPY_MODEL_b38d98f6b1344d3c9dd78fa4e7dcb033",
              "IPY_MODEL_5757f08bce2249a390dcffecbfb3b1b3",
              "IPY_MODEL_d524628619dc4b4781e851b01e0939a0"
            ],
            "layout": "IPY_MODEL_742264504e9649318bd5837a3f1a6abc"
          }
        },
        "b38d98f6b1344d3c9dd78fa4e7dcb033": {
          "model_module": "@jupyter-widgets/controls",
          "model_name": "HTMLModel",
          "model_module_version": "1.5.0",
          "state": {
            "_dom_classes": [],
            "_model_module": "@jupyter-widgets/controls",
            "_model_module_version": "1.5.0",
            "_model_name": "HTMLModel",
            "_view_count": null,
            "_view_module": "@jupyter-widgets/controls",
            "_view_module_version": "1.5.0",
            "_view_name": "HTMLView",
            "description": "",
            "description_tooltip": null,
            "layout": "IPY_MODEL_0ffeb4dca8114477920bf7c346590365",
            "placeholder": "​",
            "style": "IPY_MODEL_761d7e2552f84783873c28c78d96dfc6",
            "value": ""
          }
        },
        "5757f08bce2249a390dcffecbfb3b1b3": {
          "model_module": "@jupyter-widgets/controls",
          "model_name": "FloatProgressModel",
          "model_module_version": "1.5.0",
          "state": {
            "_dom_classes": [],
            "_model_module": "@jupyter-widgets/controls",
            "_model_module_version": "1.5.0",
            "_model_name": "FloatProgressModel",
            "_view_count": null,
            "_view_module": "@jupyter-widgets/controls",
            "_view_module_version": "1.5.0",
            "_view_name": "ProgressView",
            "bar_style": "success",
            "description": "",
            "description_tooltip": null,
            "layout": "IPY_MODEL_dd288d6211a1405788dcd2bd835461bb",
            "max": 1,
            "min": 0,
            "orientation": "horizontal",
            "style": "IPY_MODEL_38f1024b51324027bb0e720d4b42e1a3",
            "value": 1
          }
        },
        "d524628619dc4b4781e851b01e0939a0": {
          "model_module": "@jupyter-widgets/controls",
          "model_name": "HTMLModel",
          "model_module_version": "1.5.0",
          "state": {
            "_dom_classes": [],
            "_model_module": "@jupyter-widgets/controls",
            "_model_module_version": "1.5.0",
            "_model_name": "HTMLModel",
            "_view_count": null,
            "_view_module": "@jupyter-widgets/controls",
            "_view_module_version": "1.5.0",
            "_view_name": "HTMLView",
            "description": "",
            "description_tooltip": null,
            "layout": "IPY_MODEL_9e228fac97fa46c187b22dfffc0199ac",
            "placeholder": "​",
            "style": "IPY_MODEL_1b71eb5c36ab4d3cbde7de26bc6dfbce",
            "value": " 568454/? [00:53&lt;00:00, 10716.73it/s]"
          }
        },
        "742264504e9649318bd5837a3f1a6abc": {
          "model_module": "@jupyter-widgets/base",
          "model_name": "LayoutModel",
          "model_module_version": "1.2.0",
          "state": {
            "_model_module": "@jupyter-widgets/base",
            "_model_module_version": "1.2.0",
            "_model_name": "LayoutModel",
            "_view_count": null,
            "_view_module": "@jupyter-widgets/base",
            "_view_module_version": "1.2.0",
            "_view_name": "LayoutView",
            "align_content": null,
            "align_items": null,
            "align_self": null,
            "border": null,
            "bottom": null,
            "display": null,
            "flex": null,
            "flex_flow": null,
            "grid_area": null,
            "grid_auto_columns": null,
            "grid_auto_flow": null,
            "grid_auto_rows": null,
            "grid_column": null,
            "grid_gap": null,
            "grid_row": null,
            "grid_template_areas": null,
            "grid_template_columns": null,
            "grid_template_rows": null,
            "height": null,
            "justify_content": null,
            "justify_items": null,
            "left": null,
            "margin": null,
            "max_height": null,
            "max_width": null,
            "min_height": null,
            "min_width": null,
            "object_fit": null,
            "object_position": null,
            "order": null,
            "overflow": null,
            "overflow_x": null,
            "overflow_y": null,
            "padding": null,
            "right": null,
            "top": null,
            "visibility": null,
            "width": null
          }
        },
        "0ffeb4dca8114477920bf7c346590365": {
          "model_module": "@jupyter-widgets/base",
          "model_name": "LayoutModel",
          "model_module_version": "1.2.0",
          "state": {
            "_model_module": "@jupyter-widgets/base",
            "_model_module_version": "1.2.0",
            "_model_name": "LayoutModel",
            "_view_count": null,
            "_view_module": "@jupyter-widgets/base",
            "_view_module_version": "1.2.0",
            "_view_name": "LayoutView",
            "align_content": null,
            "align_items": null,
            "align_self": null,
            "border": null,
            "bottom": null,
            "display": null,
            "flex": null,
            "flex_flow": null,
            "grid_area": null,
            "grid_auto_columns": null,
            "grid_auto_flow": null,
            "grid_auto_rows": null,
            "grid_column": null,
            "grid_gap": null,
            "grid_row": null,
            "grid_template_areas": null,
            "grid_template_columns": null,
            "grid_template_rows": null,
            "height": null,
            "justify_content": null,
            "justify_items": null,
            "left": null,
            "margin": null,
            "max_height": null,
            "max_width": null,
            "min_height": null,
            "min_width": null,
            "object_fit": null,
            "object_position": null,
            "order": null,
            "overflow": null,
            "overflow_x": null,
            "overflow_y": null,
            "padding": null,
            "right": null,
            "top": null,
            "visibility": null,
            "width": null
          }
        },
        "761d7e2552f84783873c28c78d96dfc6": {
          "model_module": "@jupyter-widgets/controls",
          "model_name": "DescriptionStyleModel",
          "model_module_version": "1.5.0",
          "state": {
            "_model_module": "@jupyter-widgets/controls",
            "_model_module_version": "1.5.0",
            "_model_name": "DescriptionStyleModel",
            "_view_count": null,
            "_view_module": "@jupyter-widgets/base",
            "_view_module_version": "1.2.0",
            "_view_name": "StyleView",
            "description_width": ""
          }
        },
        "dd288d6211a1405788dcd2bd835461bb": {
          "model_module": "@jupyter-widgets/base",
          "model_name": "LayoutModel",
          "model_module_version": "1.2.0",
          "state": {
            "_model_module": "@jupyter-widgets/base",
            "_model_module_version": "1.2.0",
            "_model_name": "LayoutModel",
            "_view_count": null,
            "_view_module": "@jupyter-widgets/base",
            "_view_module_version": "1.2.0",
            "_view_name": "LayoutView",
            "align_content": null,
            "align_items": null,
            "align_self": null,
            "border": null,
            "bottom": null,
            "display": null,
            "flex": null,
            "flex_flow": null,
            "grid_area": null,
            "grid_auto_columns": null,
            "grid_auto_flow": null,
            "grid_auto_rows": null,
            "grid_column": null,
            "grid_gap": null,
            "grid_row": null,
            "grid_template_areas": null,
            "grid_template_columns": null,
            "grid_template_rows": null,
            "height": null,
            "justify_content": null,
            "justify_items": null,
            "left": null,
            "margin": null,
            "max_height": null,
            "max_width": null,
            "min_height": null,
            "min_width": null,
            "object_fit": null,
            "object_position": null,
            "order": null,
            "overflow": null,
            "overflow_x": null,
            "overflow_y": null,
            "padding": null,
            "right": null,
            "top": null,
            "visibility": null,
            "width": "20px"
          }
        },
        "38f1024b51324027bb0e720d4b42e1a3": {
          "model_module": "@jupyter-widgets/controls",
          "model_name": "ProgressStyleModel",
          "model_module_version": "1.5.0",
          "state": {
            "_model_module": "@jupyter-widgets/controls",
            "_model_module_version": "1.5.0",
            "_model_name": "ProgressStyleModel",
            "_view_count": null,
            "_view_module": "@jupyter-widgets/base",
            "_view_module_version": "1.2.0",
            "_view_name": "StyleView",
            "bar_color": null,
            "description_width": ""
          }
        },
        "9e228fac97fa46c187b22dfffc0199ac": {
          "model_module": "@jupyter-widgets/base",
          "model_name": "LayoutModel",
          "model_module_version": "1.2.0",
          "state": {
            "_model_module": "@jupyter-widgets/base",
            "_model_module_version": "1.2.0",
            "_model_name": "LayoutModel",
            "_view_count": null,
            "_view_module": "@jupyter-widgets/base",
            "_view_module_version": "1.2.0",
            "_view_name": "LayoutView",
            "align_content": null,
            "align_items": null,
            "align_self": null,
            "border": null,
            "bottom": null,
            "display": null,
            "flex": null,
            "flex_flow": null,
            "grid_area": null,
            "grid_auto_columns": null,
            "grid_auto_flow": null,
            "grid_auto_rows": null,
            "grid_column": null,
            "grid_gap": null,
            "grid_row": null,
            "grid_template_areas": null,
            "grid_template_columns": null,
            "grid_template_rows": null,
            "height": null,
            "justify_content": null,
            "justify_items": null,
            "left": null,
            "margin": null,
            "max_height": null,
            "max_width": null,
            "min_height": null,
            "min_width": null,
            "object_fit": null,
            "object_position": null,
            "order": null,
            "overflow": null,
            "overflow_x": null,
            "overflow_y": null,
            "padding": null,
            "right": null,
            "top": null,
            "visibility": null,
            "width": null
          }
        },
        "1b71eb5c36ab4d3cbde7de26bc6dfbce": {
          "model_module": "@jupyter-widgets/controls",
          "model_name": "DescriptionStyleModel",
          "model_module_version": "1.5.0",
          "state": {
            "_model_module": "@jupyter-widgets/controls",
            "_model_module_version": "1.5.0",
            "_model_name": "DescriptionStyleModel",
            "_view_count": null,
            "_view_module": "@jupyter-widgets/base",
            "_view_module_version": "1.2.0",
            "_view_name": "StyleView",
            "description_width": ""
          }
        },
        "e45584a59cb748dbb07da5f397da70cc": {
          "model_module": "@jupyter-widgets/controls",
          "model_name": "HBoxModel",
          "model_module_version": "1.5.0",
          "state": {
            "_dom_classes": [],
            "_model_module": "@jupyter-widgets/controls",
            "_model_module_version": "1.5.0",
            "_model_name": "HBoxModel",
            "_view_count": null,
            "_view_module": "@jupyter-widgets/controls",
            "_view_module_version": "1.5.0",
            "_view_name": "HBoxView",
            "box_style": "",
            "children": [
              "IPY_MODEL_70a621fd490246b4af6575007a83e019",
              "IPY_MODEL_17f831900154421e98984d57ed8d83b8",
              "IPY_MODEL_be8a63f41481422aa1510a1e2b7f116c"
            ],
            "layout": "IPY_MODEL_bed45b79ff8e4a3ab2c951894b7043fd"
          }
        },
        "70a621fd490246b4af6575007a83e019": {
          "model_module": "@jupyter-widgets/controls",
          "model_name": "HTMLModel",
          "model_module_version": "1.5.0",
          "state": {
            "_dom_classes": [],
            "_model_module": "@jupyter-widgets/controls",
            "_model_module_version": "1.5.0",
            "_model_name": "HTMLModel",
            "_view_count": null,
            "_view_module": "@jupyter-widgets/controls",
            "_view_module_version": "1.5.0",
            "_view_name": "HTMLView",
            "description": "",
            "description_tooltip": null,
            "layout": "IPY_MODEL_cd607c7543a944ef8d61107e2a2632aa",
            "placeholder": "​",
            "style": "IPY_MODEL_49b2ba444bcd4641bf9f5abbee5c8d9b",
            "value": ""
          }
        },
        "17f831900154421e98984d57ed8d83b8": {
          "model_module": "@jupyter-widgets/controls",
          "model_name": "FloatProgressModel",
          "model_module_version": "1.5.0",
          "state": {
            "_dom_classes": [],
            "_model_module": "@jupyter-widgets/controls",
            "_model_module_version": "1.5.0",
            "_model_name": "FloatProgressModel",
            "_view_count": null,
            "_view_module": "@jupyter-widgets/controls",
            "_view_module_version": "1.5.0",
            "_view_name": "ProgressView",
            "bar_style": "success",
            "description": "",
            "description_tooltip": null,
            "layout": "IPY_MODEL_c8ab7e8b2361421bbdc254d5ec93287d",
            "max": 1,
            "min": 0,
            "orientation": "horizontal",
            "style": "IPY_MODEL_5aaee225c726408ba84ab85750eb2243",
            "value": 1
          }
        },
        "be8a63f41481422aa1510a1e2b7f116c": {
          "model_module": "@jupyter-widgets/controls",
          "model_name": "HTMLModel",
          "model_module_version": "1.5.0",
          "state": {
            "_dom_classes": [],
            "_model_module": "@jupyter-widgets/controls",
            "_model_module_version": "1.5.0",
            "_model_name": "HTMLModel",
            "_view_count": null,
            "_view_module": "@jupyter-widgets/controls",
            "_view_module_version": "1.5.0",
            "_view_name": "HTMLView",
            "description": "",
            "description_tooltip": null,
            "layout": "IPY_MODEL_4c898b70788340adb666a5c33920dab8",
            "placeholder": "​",
            "style": "IPY_MODEL_873bddb205094db5b3ba8e32e00afdd9",
            "value": " 100000/? [00:09&lt;00:00, 10966.26it/s]"
          }
        },
        "bed45b79ff8e4a3ab2c951894b7043fd": {
          "model_module": "@jupyter-widgets/base",
          "model_name": "LayoutModel",
          "model_module_version": "1.2.0",
          "state": {
            "_model_module": "@jupyter-widgets/base",
            "_model_module_version": "1.2.0",
            "_model_name": "LayoutModel",
            "_view_count": null,
            "_view_module": "@jupyter-widgets/base",
            "_view_module_version": "1.2.0",
            "_view_name": "LayoutView",
            "align_content": null,
            "align_items": null,
            "align_self": null,
            "border": null,
            "bottom": null,
            "display": null,
            "flex": null,
            "flex_flow": null,
            "grid_area": null,
            "grid_auto_columns": null,
            "grid_auto_flow": null,
            "grid_auto_rows": null,
            "grid_column": null,
            "grid_gap": null,
            "grid_row": null,
            "grid_template_areas": null,
            "grid_template_columns": null,
            "grid_template_rows": null,
            "height": null,
            "justify_content": null,
            "justify_items": null,
            "left": null,
            "margin": null,
            "max_height": null,
            "max_width": null,
            "min_height": null,
            "min_width": null,
            "object_fit": null,
            "object_position": null,
            "order": null,
            "overflow": null,
            "overflow_x": null,
            "overflow_y": null,
            "padding": null,
            "right": null,
            "top": null,
            "visibility": null,
            "width": null
          }
        },
        "cd607c7543a944ef8d61107e2a2632aa": {
          "model_module": "@jupyter-widgets/base",
          "model_name": "LayoutModel",
          "model_module_version": "1.2.0",
          "state": {
            "_model_module": "@jupyter-widgets/base",
            "_model_module_version": "1.2.0",
            "_model_name": "LayoutModel",
            "_view_count": null,
            "_view_module": "@jupyter-widgets/base",
            "_view_module_version": "1.2.0",
            "_view_name": "LayoutView",
            "align_content": null,
            "align_items": null,
            "align_self": null,
            "border": null,
            "bottom": null,
            "display": null,
            "flex": null,
            "flex_flow": null,
            "grid_area": null,
            "grid_auto_columns": null,
            "grid_auto_flow": null,
            "grid_auto_rows": null,
            "grid_column": null,
            "grid_gap": null,
            "grid_row": null,
            "grid_template_areas": null,
            "grid_template_columns": null,
            "grid_template_rows": null,
            "height": null,
            "justify_content": null,
            "justify_items": null,
            "left": null,
            "margin": null,
            "max_height": null,
            "max_width": null,
            "min_height": null,
            "min_width": null,
            "object_fit": null,
            "object_position": null,
            "order": null,
            "overflow": null,
            "overflow_x": null,
            "overflow_y": null,
            "padding": null,
            "right": null,
            "top": null,
            "visibility": null,
            "width": null
          }
        },
        "49b2ba444bcd4641bf9f5abbee5c8d9b": {
          "model_module": "@jupyter-widgets/controls",
          "model_name": "DescriptionStyleModel",
          "model_module_version": "1.5.0",
          "state": {
            "_model_module": "@jupyter-widgets/controls",
            "_model_module_version": "1.5.0",
            "_model_name": "DescriptionStyleModel",
            "_view_count": null,
            "_view_module": "@jupyter-widgets/base",
            "_view_module_version": "1.2.0",
            "_view_name": "StyleView",
            "description_width": ""
          }
        },
        "c8ab7e8b2361421bbdc254d5ec93287d": {
          "model_module": "@jupyter-widgets/base",
          "model_name": "LayoutModel",
          "model_module_version": "1.2.0",
          "state": {
            "_model_module": "@jupyter-widgets/base",
            "_model_module_version": "1.2.0",
            "_model_name": "LayoutModel",
            "_view_count": null,
            "_view_module": "@jupyter-widgets/base",
            "_view_module_version": "1.2.0",
            "_view_name": "LayoutView",
            "align_content": null,
            "align_items": null,
            "align_self": null,
            "border": null,
            "bottom": null,
            "display": null,
            "flex": null,
            "flex_flow": null,
            "grid_area": null,
            "grid_auto_columns": null,
            "grid_auto_flow": null,
            "grid_auto_rows": null,
            "grid_column": null,
            "grid_gap": null,
            "grid_row": null,
            "grid_template_areas": null,
            "grid_template_columns": null,
            "grid_template_rows": null,
            "height": null,
            "justify_content": null,
            "justify_items": null,
            "left": null,
            "margin": null,
            "max_height": null,
            "max_width": null,
            "min_height": null,
            "min_width": null,
            "object_fit": null,
            "object_position": null,
            "order": null,
            "overflow": null,
            "overflow_x": null,
            "overflow_y": null,
            "padding": null,
            "right": null,
            "top": null,
            "visibility": null,
            "width": "20px"
          }
        },
        "5aaee225c726408ba84ab85750eb2243": {
          "model_module": "@jupyter-widgets/controls",
          "model_name": "ProgressStyleModel",
          "model_module_version": "1.5.0",
          "state": {
            "_model_module": "@jupyter-widgets/controls",
            "_model_module_version": "1.5.0",
            "_model_name": "ProgressStyleModel",
            "_view_count": null,
            "_view_module": "@jupyter-widgets/base",
            "_view_module_version": "1.2.0",
            "_view_name": "StyleView",
            "bar_color": null,
            "description_width": ""
          }
        },
        "4c898b70788340adb666a5c33920dab8": {
          "model_module": "@jupyter-widgets/base",
          "model_name": "LayoutModel",
          "model_module_version": "1.2.0",
          "state": {
            "_model_module": "@jupyter-widgets/base",
            "_model_module_version": "1.2.0",
            "_model_name": "LayoutModel",
            "_view_count": null,
            "_view_module": "@jupyter-widgets/base",
            "_view_module_version": "1.2.0",
            "_view_name": "LayoutView",
            "align_content": null,
            "align_items": null,
            "align_self": null,
            "border": null,
            "bottom": null,
            "display": null,
            "flex": null,
            "flex_flow": null,
            "grid_area": null,
            "grid_auto_columns": null,
            "grid_auto_flow": null,
            "grid_auto_rows": null,
            "grid_column": null,
            "grid_gap": null,
            "grid_row": null,
            "grid_template_areas": null,
            "grid_template_columns": null,
            "grid_template_rows": null,
            "height": null,
            "justify_content": null,
            "justify_items": null,
            "left": null,
            "margin": null,
            "max_height": null,
            "max_width": null,
            "min_height": null,
            "min_width": null,
            "object_fit": null,
            "object_position": null,
            "order": null,
            "overflow": null,
            "overflow_x": null,
            "overflow_y": null,
            "padding": null,
            "right": null,
            "top": null,
            "visibility": null,
            "width": null
          }
        },
        "873bddb205094db5b3ba8e32e00afdd9": {
          "model_module": "@jupyter-widgets/controls",
          "model_name": "DescriptionStyleModel",
          "model_module_version": "1.5.0",
          "state": {
            "_model_module": "@jupyter-widgets/controls",
            "_model_module_version": "1.5.0",
            "_model_name": "DescriptionStyleModel",
            "_view_count": null,
            "_view_module": "@jupyter-widgets/base",
            "_view_module_version": "1.2.0",
            "_view_name": "StyleView",
            "description_width": ""
          }
        },
        "0b8c0ca4036d481983403f5db5bbd791": {
          "model_module": "@jupyter-widgets/controls",
          "model_name": "HBoxModel",
          "model_module_version": "1.5.0",
          "state": {
            "_dom_classes": [],
            "_model_module": "@jupyter-widgets/controls",
            "_model_module_version": "1.5.0",
            "_model_name": "HBoxModel",
            "_view_count": null,
            "_view_module": "@jupyter-widgets/controls",
            "_view_module_version": "1.5.0",
            "_view_name": "HBoxView",
            "box_style": "",
            "children": [
              "IPY_MODEL_2756aa92a1a64390b98e3f87ba69dbeb",
              "IPY_MODEL_f0a4d0cf16d349ee96d7d02e6e40fd32",
              "IPY_MODEL_2d3094c3710c4266aa81e686f93edd41"
            ],
            "layout": "IPY_MODEL_d1b3747b7e844a12b2c6294f619470c5"
          }
        },
        "2756aa92a1a64390b98e3f87ba69dbeb": {
          "model_module": "@jupyter-widgets/controls",
          "model_name": "HTMLModel",
          "model_module_version": "1.5.0",
          "state": {
            "_dom_classes": [],
            "_model_module": "@jupyter-widgets/controls",
            "_model_module_version": "1.5.0",
            "_model_name": "HTMLModel",
            "_view_count": null,
            "_view_module": "@jupyter-widgets/controls",
            "_view_module_version": "1.5.0",
            "_view_name": "HTMLView",
            "description": "",
            "description_tooltip": null,
            "layout": "IPY_MODEL_635f3fe08ed542bf9ae0bb21bb73672d",
            "placeholder": "​",
            "style": "IPY_MODEL_795752f9eb2844c08f82889931583483",
            "value": "100%"
          }
        },
        "f0a4d0cf16d349ee96d7d02e6e40fd32": {
          "model_module": "@jupyter-widgets/controls",
          "model_name": "FloatProgressModel",
          "model_module_version": "1.5.0",
          "state": {
            "_dom_classes": [],
            "_model_module": "@jupyter-widgets/controls",
            "_model_module_version": "1.5.0",
            "_model_name": "FloatProgressModel",
            "_view_count": null,
            "_view_module": "@jupyter-widgets/controls",
            "_view_module_version": "1.5.0",
            "_view_name": "ProgressView",
            "bar_style": "success",
            "description": "",
            "description_tooltip": null,
            "layout": "IPY_MODEL_bfaa0db38aac4d4186033585b36b7b4f",
            "max": 80000,
            "min": 0,
            "orientation": "horizontal",
            "style": "IPY_MODEL_c6bf19fccaea461692e21ea1a592ab0b",
            "value": 80000
          }
        },
        "2d3094c3710c4266aa81e686f93edd41": {
          "model_module": "@jupyter-widgets/controls",
          "model_name": "HTMLModel",
          "model_module_version": "1.5.0",
          "state": {
            "_dom_classes": [],
            "_model_module": "@jupyter-widgets/controls",
            "_model_module_version": "1.5.0",
            "_model_name": "HTMLModel",
            "_view_count": null,
            "_view_module": "@jupyter-widgets/controls",
            "_view_module_version": "1.5.0",
            "_view_name": "HTMLView",
            "description": "",
            "description_tooltip": null,
            "layout": "IPY_MODEL_489d737a2d4a49c1aab9131b349f98a2",
            "placeholder": "​",
            "style": "IPY_MODEL_f6c96acf5a2547ac8c796cb6d1158c8d",
            "value": " 80000/80000 [09:10&lt;00:00, 147.35it/s]"
          }
        },
        "d1b3747b7e844a12b2c6294f619470c5": {
          "model_module": "@jupyter-widgets/base",
          "model_name": "LayoutModel",
          "model_module_version": "1.2.0",
          "state": {
            "_model_module": "@jupyter-widgets/base",
            "_model_module_version": "1.2.0",
            "_model_name": "LayoutModel",
            "_view_count": null,
            "_view_module": "@jupyter-widgets/base",
            "_view_module_version": "1.2.0",
            "_view_name": "LayoutView",
            "align_content": null,
            "align_items": null,
            "align_self": null,
            "border": null,
            "bottom": null,
            "display": null,
            "flex": null,
            "flex_flow": null,
            "grid_area": null,
            "grid_auto_columns": null,
            "grid_auto_flow": null,
            "grid_auto_rows": null,
            "grid_column": null,
            "grid_gap": null,
            "grid_row": null,
            "grid_template_areas": null,
            "grid_template_columns": null,
            "grid_template_rows": null,
            "height": null,
            "justify_content": null,
            "justify_items": null,
            "left": null,
            "margin": null,
            "max_height": null,
            "max_width": null,
            "min_height": null,
            "min_width": null,
            "object_fit": null,
            "object_position": null,
            "order": null,
            "overflow": null,
            "overflow_x": null,
            "overflow_y": null,
            "padding": null,
            "right": null,
            "top": null,
            "visibility": null,
            "width": null
          }
        },
        "635f3fe08ed542bf9ae0bb21bb73672d": {
          "model_module": "@jupyter-widgets/base",
          "model_name": "LayoutModel",
          "model_module_version": "1.2.0",
          "state": {
            "_model_module": "@jupyter-widgets/base",
            "_model_module_version": "1.2.0",
            "_model_name": "LayoutModel",
            "_view_count": null,
            "_view_module": "@jupyter-widgets/base",
            "_view_module_version": "1.2.0",
            "_view_name": "LayoutView",
            "align_content": null,
            "align_items": null,
            "align_self": null,
            "border": null,
            "bottom": null,
            "display": null,
            "flex": null,
            "flex_flow": null,
            "grid_area": null,
            "grid_auto_columns": null,
            "grid_auto_flow": null,
            "grid_auto_rows": null,
            "grid_column": null,
            "grid_gap": null,
            "grid_row": null,
            "grid_template_areas": null,
            "grid_template_columns": null,
            "grid_template_rows": null,
            "height": null,
            "justify_content": null,
            "justify_items": null,
            "left": null,
            "margin": null,
            "max_height": null,
            "max_width": null,
            "min_height": null,
            "min_width": null,
            "object_fit": null,
            "object_position": null,
            "order": null,
            "overflow": null,
            "overflow_x": null,
            "overflow_y": null,
            "padding": null,
            "right": null,
            "top": null,
            "visibility": null,
            "width": null
          }
        },
        "795752f9eb2844c08f82889931583483": {
          "model_module": "@jupyter-widgets/controls",
          "model_name": "DescriptionStyleModel",
          "model_module_version": "1.5.0",
          "state": {
            "_model_module": "@jupyter-widgets/controls",
            "_model_module_version": "1.5.0",
            "_model_name": "DescriptionStyleModel",
            "_view_count": null,
            "_view_module": "@jupyter-widgets/base",
            "_view_module_version": "1.2.0",
            "_view_name": "StyleView",
            "description_width": ""
          }
        },
        "bfaa0db38aac4d4186033585b36b7b4f": {
          "model_module": "@jupyter-widgets/base",
          "model_name": "LayoutModel",
          "model_module_version": "1.2.0",
          "state": {
            "_model_module": "@jupyter-widgets/base",
            "_model_module_version": "1.2.0",
            "_model_name": "LayoutModel",
            "_view_count": null,
            "_view_module": "@jupyter-widgets/base",
            "_view_module_version": "1.2.0",
            "_view_name": "LayoutView",
            "align_content": null,
            "align_items": null,
            "align_self": null,
            "border": null,
            "bottom": null,
            "display": null,
            "flex": null,
            "flex_flow": null,
            "grid_area": null,
            "grid_auto_columns": null,
            "grid_auto_flow": null,
            "grid_auto_rows": null,
            "grid_column": null,
            "grid_gap": null,
            "grid_row": null,
            "grid_template_areas": null,
            "grid_template_columns": null,
            "grid_template_rows": null,
            "height": null,
            "justify_content": null,
            "justify_items": null,
            "left": null,
            "margin": null,
            "max_height": null,
            "max_width": null,
            "min_height": null,
            "min_width": null,
            "object_fit": null,
            "object_position": null,
            "order": null,
            "overflow": null,
            "overflow_x": null,
            "overflow_y": null,
            "padding": null,
            "right": null,
            "top": null,
            "visibility": null,
            "width": null
          }
        },
        "c6bf19fccaea461692e21ea1a592ab0b": {
          "model_module": "@jupyter-widgets/controls",
          "model_name": "ProgressStyleModel",
          "model_module_version": "1.5.0",
          "state": {
            "_model_module": "@jupyter-widgets/controls",
            "_model_module_version": "1.5.0",
            "_model_name": "ProgressStyleModel",
            "_view_count": null,
            "_view_module": "@jupyter-widgets/base",
            "_view_module_version": "1.2.0",
            "_view_name": "StyleView",
            "bar_color": null,
            "description_width": ""
          }
        },
        "489d737a2d4a49c1aab9131b349f98a2": {
          "model_module": "@jupyter-widgets/base",
          "model_name": "LayoutModel",
          "model_module_version": "1.2.0",
          "state": {
            "_model_module": "@jupyter-widgets/base",
            "_model_module_version": "1.2.0",
            "_model_name": "LayoutModel",
            "_view_count": null,
            "_view_module": "@jupyter-widgets/base",
            "_view_module_version": "1.2.0",
            "_view_name": "LayoutView",
            "align_content": null,
            "align_items": null,
            "align_self": null,
            "border": null,
            "bottom": null,
            "display": null,
            "flex": null,
            "flex_flow": null,
            "grid_area": null,
            "grid_auto_columns": null,
            "grid_auto_flow": null,
            "grid_auto_rows": null,
            "grid_column": null,
            "grid_gap": null,
            "grid_row": null,
            "grid_template_areas": null,
            "grid_template_columns": null,
            "grid_template_rows": null,
            "height": null,
            "justify_content": null,
            "justify_items": null,
            "left": null,
            "margin": null,
            "max_height": null,
            "max_width": null,
            "min_height": null,
            "min_width": null,
            "object_fit": null,
            "object_position": null,
            "order": null,
            "overflow": null,
            "overflow_x": null,
            "overflow_y": null,
            "padding": null,
            "right": null,
            "top": null,
            "visibility": null,
            "width": null
          }
        },
        "f6c96acf5a2547ac8c796cb6d1158c8d": {
          "model_module": "@jupyter-widgets/controls",
          "model_name": "DescriptionStyleModel",
          "model_module_version": "1.5.0",
          "state": {
            "_model_module": "@jupyter-widgets/controls",
            "_model_module_version": "1.5.0",
            "_model_name": "DescriptionStyleModel",
            "_view_count": null,
            "_view_module": "@jupyter-widgets/base",
            "_view_module_version": "1.2.0",
            "_view_name": "StyleView",
            "description_width": ""
          }
        },
        "ef4341d783914ca199793412dc3ba2a0": {
          "model_module": "@jupyter-widgets/controls",
          "model_name": "HBoxModel",
          "model_module_version": "1.5.0",
          "state": {
            "_dom_classes": [],
            "_model_module": "@jupyter-widgets/controls",
            "_model_module_version": "1.5.0",
            "_model_name": "HBoxModel",
            "_view_count": null,
            "_view_module": "@jupyter-widgets/controls",
            "_view_module_version": "1.5.0",
            "_view_name": "HBoxView",
            "box_style": "",
            "children": [
              "IPY_MODEL_2fd1171626a9424daae9bb898b14a677",
              "IPY_MODEL_261fed5ab02940c68ad2a210ecae031b",
              "IPY_MODEL_d8e477cfe35944c585c8f7b1432d4c6c"
            ],
            "layout": "IPY_MODEL_bf42d478782348028a09ffc02ecc1651"
          }
        },
        "2fd1171626a9424daae9bb898b14a677": {
          "model_module": "@jupyter-widgets/controls",
          "model_name": "HTMLModel",
          "model_module_version": "1.5.0",
          "state": {
            "_dom_classes": [],
            "_model_module": "@jupyter-widgets/controls",
            "_model_module_version": "1.5.0",
            "_model_name": "HTMLModel",
            "_view_count": null,
            "_view_module": "@jupyter-widgets/controls",
            "_view_module_version": "1.5.0",
            "_view_name": "HTMLView",
            "description": "",
            "description_tooltip": null,
            "layout": "IPY_MODEL_4d63b9892ac340a389d8fe313b071efb",
            "placeholder": "​",
            "style": "IPY_MODEL_6111cf40a40145ca924c71e9f4868e39",
            "value": "100%"
          }
        },
        "261fed5ab02940c68ad2a210ecae031b": {
          "model_module": "@jupyter-widgets/controls",
          "model_name": "FloatProgressModel",
          "model_module_version": "1.5.0",
          "state": {
            "_dom_classes": [],
            "_model_module": "@jupyter-widgets/controls",
            "_model_module_version": "1.5.0",
            "_model_name": "FloatProgressModel",
            "_view_count": null,
            "_view_module": "@jupyter-widgets/controls",
            "_view_module_version": "1.5.0",
            "_view_name": "ProgressView",
            "bar_style": "success",
            "description": "",
            "description_tooltip": null,
            "layout": "IPY_MODEL_c9048301b63241d0ac0bf6e7c0a5bc90",
            "max": 20000,
            "min": 0,
            "orientation": "horizontal",
            "style": "IPY_MODEL_c81d5cad78bd4d288b5bf2634871faba",
            "value": 20000
          }
        },
        "d8e477cfe35944c585c8f7b1432d4c6c": {
          "model_module": "@jupyter-widgets/controls",
          "model_name": "HTMLModel",
          "model_module_version": "1.5.0",
          "state": {
            "_dom_classes": [],
            "_model_module": "@jupyter-widgets/controls",
            "_model_module_version": "1.5.0",
            "_model_name": "HTMLModel",
            "_view_count": null,
            "_view_module": "@jupyter-widgets/controls",
            "_view_module_version": "1.5.0",
            "_view_name": "HTMLView",
            "description": "",
            "description_tooltip": null,
            "layout": "IPY_MODEL_d239d203813f44d0ad03a202bc506b98",
            "placeholder": "​",
            "style": "IPY_MODEL_ede59250810b43e39ecc5cd7becaa629",
            "value": " 20000/20000 [00:48&lt;00:00, 425.84it/s]"
          }
        },
        "bf42d478782348028a09ffc02ecc1651": {
          "model_module": "@jupyter-widgets/base",
          "model_name": "LayoutModel",
          "model_module_version": "1.2.0",
          "state": {
            "_model_module": "@jupyter-widgets/base",
            "_model_module_version": "1.2.0",
            "_model_name": "LayoutModel",
            "_view_count": null,
            "_view_module": "@jupyter-widgets/base",
            "_view_module_version": "1.2.0",
            "_view_name": "LayoutView",
            "align_content": null,
            "align_items": null,
            "align_self": null,
            "border": null,
            "bottom": null,
            "display": null,
            "flex": null,
            "flex_flow": null,
            "grid_area": null,
            "grid_auto_columns": null,
            "grid_auto_flow": null,
            "grid_auto_rows": null,
            "grid_column": null,
            "grid_gap": null,
            "grid_row": null,
            "grid_template_areas": null,
            "grid_template_columns": null,
            "grid_template_rows": null,
            "height": null,
            "justify_content": null,
            "justify_items": null,
            "left": null,
            "margin": null,
            "max_height": null,
            "max_width": null,
            "min_height": null,
            "min_width": null,
            "object_fit": null,
            "object_position": null,
            "order": null,
            "overflow": null,
            "overflow_x": null,
            "overflow_y": null,
            "padding": null,
            "right": null,
            "top": null,
            "visibility": null,
            "width": null
          }
        },
        "4d63b9892ac340a389d8fe313b071efb": {
          "model_module": "@jupyter-widgets/base",
          "model_name": "LayoutModel",
          "model_module_version": "1.2.0",
          "state": {
            "_model_module": "@jupyter-widgets/base",
            "_model_module_version": "1.2.0",
            "_model_name": "LayoutModel",
            "_view_count": null,
            "_view_module": "@jupyter-widgets/base",
            "_view_module_version": "1.2.0",
            "_view_name": "LayoutView",
            "align_content": null,
            "align_items": null,
            "align_self": null,
            "border": null,
            "bottom": null,
            "display": null,
            "flex": null,
            "flex_flow": null,
            "grid_area": null,
            "grid_auto_columns": null,
            "grid_auto_flow": null,
            "grid_auto_rows": null,
            "grid_column": null,
            "grid_gap": null,
            "grid_row": null,
            "grid_template_areas": null,
            "grid_template_columns": null,
            "grid_template_rows": null,
            "height": null,
            "justify_content": null,
            "justify_items": null,
            "left": null,
            "margin": null,
            "max_height": null,
            "max_width": null,
            "min_height": null,
            "min_width": null,
            "object_fit": null,
            "object_position": null,
            "order": null,
            "overflow": null,
            "overflow_x": null,
            "overflow_y": null,
            "padding": null,
            "right": null,
            "top": null,
            "visibility": null,
            "width": null
          }
        },
        "6111cf40a40145ca924c71e9f4868e39": {
          "model_module": "@jupyter-widgets/controls",
          "model_name": "DescriptionStyleModel",
          "model_module_version": "1.5.0",
          "state": {
            "_model_module": "@jupyter-widgets/controls",
            "_model_module_version": "1.5.0",
            "_model_name": "DescriptionStyleModel",
            "_view_count": null,
            "_view_module": "@jupyter-widgets/base",
            "_view_module_version": "1.2.0",
            "_view_name": "StyleView",
            "description_width": ""
          }
        },
        "c9048301b63241d0ac0bf6e7c0a5bc90": {
          "model_module": "@jupyter-widgets/base",
          "model_name": "LayoutModel",
          "model_module_version": "1.2.0",
          "state": {
            "_model_module": "@jupyter-widgets/base",
            "_model_module_version": "1.2.0",
            "_model_name": "LayoutModel",
            "_view_count": null,
            "_view_module": "@jupyter-widgets/base",
            "_view_module_version": "1.2.0",
            "_view_name": "LayoutView",
            "align_content": null,
            "align_items": null,
            "align_self": null,
            "border": null,
            "bottom": null,
            "display": null,
            "flex": null,
            "flex_flow": null,
            "grid_area": null,
            "grid_auto_columns": null,
            "grid_auto_flow": null,
            "grid_auto_rows": null,
            "grid_column": null,
            "grid_gap": null,
            "grid_row": null,
            "grid_template_areas": null,
            "grid_template_columns": null,
            "grid_template_rows": null,
            "height": null,
            "justify_content": null,
            "justify_items": null,
            "left": null,
            "margin": null,
            "max_height": null,
            "max_width": null,
            "min_height": null,
            "min_width": null,
            "object_fit": null,
            "object_position": null,
            "order": null,
            "overflow": null,
            "overflow_x": null,
            "overflow_y": null,
            "padding": null,
            "right": null,
            "top": null,
            "visibility": null,
            "width": null
          }
        },
        "c81d5cad78bd4d288b5bf2634871faba": {
          "model_module": "@jupyter-widgets/controls",
          "model_name": "ProgressStyleModel",
          "model_module_version": "1.5.0",
          "state": {
            "_model_module": "@jupyter-widgets/controls",
            "_model_module_version": "1.5.0",
            "_model_name": "ProgressStyleModel",
            "_view_count": null,
            "_view_module": "@jupyter-widgets/base",
            "_view_module_version": "1.2.0",
            "_view_name": "StyleView",
            "bar_color": null,
            "description_width": ""
          }
        },
        "d239d203813f44d0ad03a202bc506b98": {
          "model_module": "@jupyter-widgets/base",
          "model_name": "LayoutModel",
          "model_module_version": "1.2.0",
          "state": {
            "_model_module": "@jupyter-widgets/base",
            "_model_module_version": "1.2.0",
            "_model_name": "LayoutModel",
            "_view_count": null,
            "_view_module": "@jupyter-widgets/base",
            "_view_module_version": "1.2.0",
            "_view_name": "LayoutView",
            "align_content": null,
            "align_items": null,
            "align_self": null,
            "border": null,
            "bottom": null,
            "display": null,
            "flex": null,
            "flex_flow": null,
            "grid_area": null,
            "grid_auto_columns": null,
            "grid_auto_flow": null,
            "grid_auto_rows": null,
            "grid_column": null,
            "grid_gap": null,
            "grid_row": null,
            "grid_template_areas": null,
            "grid_template_columns": null,
            "grid_template_rows": null,
            "height": null,
            "justify_content": null,
            "justify_items": null,
            "left": null,
            "margin": null,
            "max_height": null,
            "max_width": null,
            "min_height": null,
            "min_width": null,
            "object_fit": null,
            "object_position": null,
            "order": null,
            "overflow": null,
            "overflow_x": null,
            "overflow_y": null,
            "padding": null,
            "right": null,
            "top": null,
            "visibility": null,
            "width": null
          }
        },
        "ede59250810b43e39ecc5cd7becaa629": {
          "model_module": "@jupyter-widgets/controls",
          "model_name": "DescriptionStyleModel",
          "model_module_version": "1.5.0",
          "state": {
            "_model_module": "@jupyter-widgets/controls",
            "_model_module_version": "1.5.0",
            "_model_name": "DescriptionStyleModel",
            "_view_count": null,
            "_view_module": "@jupyter-widgets/base",
            "_view_module_version": "1.2.0",
            "_view_name": "StyleView",
            "description_width": ""
          }
        }
      }
    }
  },
  "cells": [
    {
      "cell_type": "markdown",
      "source": [
        "### For this project, we require two files viz, reviews.csv and tokenization file. We will use gdown to import both the files in Google Colab from Google drive."
      ],
      "metadata": {
        "id": "ENqauw5SKraY"
      }
    },
    {
      "cell_type": "code",
      "source": [
        "!gdown --id 1GsD8JlAc_0yJ-1151LNr6rLw83RRUPgt\n",
        "!gdown --id 13exfXiyiByluh1PfYK1EyZyizqxeCVG9"
      ],
      "metadata": {
        "colab": {
          "base_uri": "https://localhost:8080/"
        },
        "id": "Er0aC2ffaNVO",
        "outputId": "fcc6bd15-8a30-4ad9-840f-0388003aefe1"
      },
      "execution_count": null,
      "outputs": [
        {
          "output_type": "stream",
          "name": "stdout",
          "text": [
            "/usr/local/lib/python3.7/dist-packages/gdown/cli.py:131: FutureWarning: Option `--id` was deprecated in version 4.3.1 and will be removed in 5.0. You don't need to pass it anymore to use a file ID.\n",
            "  category=FutureWarning,\n",
            "Downloading...\n",
            "From: https://drive.google.com/uc?id=1GsD8JlAc_0yJ-1151LNr6rLw83RRUPgt\n",
            "To: /content/Reviews.csv\n",
            "100% 301M/301M [00:03<00:00, 76.4MB/s]\n",
            "/usr/local/lib/python3.7/dist-packages/gdown/cli.py:131: FutureWarning: Option `--id` was deprecated in version 4.3.1 and will be removed in 5.0. You don't need to pass it anymore to use a file ID.\n",
            "  category=FutureWarning,\n",
            "Downloading...\n",
            "From: https://drive.google.com/uc?id=13exfXiyiByluh1PfYK1EyZyizqxeCVG9\n",
            "To: /content/tokenization.py\n",
            "100% 17.3k/17.3k [00:00<00:00, 26.9MB/s]\n"
          ]
        }
      ]
    },
    {
      "cell_type": "markdown",
      "source": [
        "### Importing the necessary libraries"
      ],
      "metadata": {
        "id": "61Qu8xojbDlP"
      }
    },
    {
      "cell_type": "code",
      "source": [
        "import numpy as np\n",
        "import pandas as pd\n",
        "import tensorflow as tf\n",
        "import tensorflow_hub as hub\n",
        "import re\n",
        "import os\n",
        "\n",
        "from tensorflow.keras.models import Model\n",
        "from tensorflow.keras.layers import Input\n",
        "from tensorflow.keras.layers import Dense\n",
        "from tensorflow.keras.layers import Activation\n",
        "from tensorflow.keras.layers import Dropout\n",
        "from tensorflow.keras.layers import LSTM\n",
        "from tensorflow.keras.utils import to_categorical\n",
        "from tensorflow.keras.utils import plot_model\n",
        "from tensorflow.keras.callbacks import TensorBoard\n",
        "\n",
        "from sklearn.model_selection import train_test_split\n",
        "from sklearn.model_selection import GridSearchCV\n",
        "\n",
        "from keras.wrappers.scikit_learn import KerasClassifier\n",
        "\n",
        "from tqdm import *\n"
      ],
      "metadata": {
        "id": "g3gYIHHJcSR6"
      },
      "execution_count": null,
      "outputs": []
    },
    {
      "cell_type": "code",
      "source": [
        "import datetime\n",
        "\n",
        "!rm -rf ./logs/*\n",
        "LOG_DIR = './logs'"
      ],
      "metadata": {
        "id": "plEYMKCiW3w0"
      },
      "execution_count": null,
      "outputs": []
    },
    {
      "cell_type": "markdown",
      "metadata": {
        "id": "ZTWRqbrBqVAu"
      },
      "source": [
        "## 1. Preprocessing the text reviews of the Amazon Fine Food Reviews Dataset."
      ]
    },
    {
      "cell_type": "code",
      "source": [
        "reviews = pd.read_csv(r'Reviews.csv')\n",
        "reviews.info()"
      ],
      "metadata": {
        "colab": {
          "base_uri": "https://localhost:8080/"
        },
        "id": "UR-JXxn-caqb",
        "outputId": "65eb7aaa-65f6-4930-ba35-484a035b8a3a"
      },
      "execution_count": null,
      "outputs": [
        {
          "output_type": "stream",
          "name": "stdout",
          "text": [
            "<class 'pandas.core.frame.DataFrame'>\n",
            "RangeIndex: 568454 entries, 0 to 568453\n",
            "Data columns (total 10 columns):\n",
            " #   Column                  Non-Null Count   Dtype \n",
            "---  ------                  --------------   ----- \n",
            " 0   Id                      568454 non-null  int64 \n",
            " 1   ProductId               568454 non-null  object\n",
            " 2   UserId                  568454 non-null  object\n",
            " 3   ProfileName             568438 non-null  object\n",
            " 4   HelpfulnessNumerator    568454 non-null  int64 \n",
            " 5   HelpfulnessDenominator  568454 non-null  int64 \n",
            " 6   Score                   568454 non-null  int64 \n",
            " 7   Time                    568454 non-null  int64 \n",
            " 8   Summary                 568427 non-null  object\n",
            " 9   Text                    568454 non-null  object\n",
            "dtypes: int64(5), object(5)\n",
            "memory usage: 43.4+ MB\n"
          ]
        }
      ]
    },
    {
      "cell_type": "markdown",
      "source": [
        "#### Out of the 10 columns of the Amazon Fine Food Reviews dataset, we only require two columns which are the Text column and the Score column. Here Text column contains the actual review given the users and the Score column contains the actual rating given by the users. We will also drop the NaN values from our dataset."
      ],
      "metadata": {
        "id": "Sq1LwV1ZQHGW"
      }
    },
    {
      "cell_type": "code",
      "source": [
        "reviews=reviews[['Text','Score']]\n",
        "reviews.dropna(axis=0)"
      ],
      "metadata": {
        "colab": {
          "base_uri": "https://localhost:8080/",
          "height": 424
        },
        "id": "rzBuwu8dcfXO",
        "outputId": "452af34f-e0f0-48cb-bcea-1f8cad11d56f"
      },
      "execution_count": null,
      "outputs": [
        {
          "output_type": "execute_result",
          "data": {
            "text/plain": [
              "                                                     Text  Score\n",
              "0       I have bought several of the Vitality canned d...      5\n",
              "1       Product arrived labeled as Jumbo Salted Peanut...      1\n",
              "2       This is a confection that has been around a fe...      4\n",
              "3       If you are looking for the secret ingredient i...      2\n",
              "4       Great taffy at a great price.  There was a wid...      5\n",
              "...                                                   ...    ...\n",
              "568449  Great for sesame chicken..this is a good if no...      5\n",
              "568450  I'm disappointed with the flavor. The chocolat...      2\n",
              "568451  These stars are small, so you can give 10-15 o...      5\n",
              "568452  These are the BEST treats for training and rew...      5\n",
              "568453  I am very satisfied ,product is as advertised,...      5\n",
              "\n",
              "[568454 rows x 2 columns]"
            ],
            "text/html": [
              "\n",
              "  <div id=\"df-7dc4f411-b221-49a5-80ac-d77288b15160\">\n",
              "    <div class=\"colab-df-container\">\n",
              "      <div>\n",
              "<style scoped>\n",
              "    .dataframe tbody tr th:only-of-type {\n",
              "        vertical-align: middle;\n",
              "    }\n",
              "\n",
              "    .dataframe tbody tr th {\n",
              "        vertical-align: top;\n",
              "    }\n",
              "\n",
              "    .dataframe thead th {\n",
              "        text-align: right;\n",
              "    }\n",
              "</style>\n",
              "<table border=\"1\" class=\"dataframe\">\n",
              "  <thead>\n",
              "    <tr style=\"text-align: right;\">\n",
              "      <th></th>\n",
              "      <th>Text</th>\n",
              "      <th>Score</th>\n",
              "    </tr>\n",
              "  </thead>\n",
              "  <tbody>\n",
              "    <tr>\n",
              "      <th>0</th>\n",
              "      <td>I have bought several of the Vitality canned d...</td>\n",
              "      <td>5</td>\n",
              "    </tr>\n",
              "    <tr>\n",
              "      <th>1</th>\n",
              "      <td>Product arrived labeled as Jumbo Salted Peanut...</td>\n",
              "      <td>1</td>\n",
              "    </tr>\n",
              "    <tr>\n",
              "      <th>2</th>\n",
              "      <td>This is a confection that has been around a fe...</td>\n",
              "      <td>4</td>\n",
              "    </tr>\n",
              "    <tr>\n",
              "      <th>3</th>\n",
              "      <td>If you are looking for the secret ingredient i...</td>\n",
              "      <td>2</td>\n",
              "    </tr>\n",
              "    <tr>\n",
              "      <th>4</th>\n",
              "      <td>Great taffy at a great price.  There was a wid...</td>\n",
              "      <td>5</td>\n",
              "    </tr>\n",
              "    <tr>\n",
              "      <th>...</th>\n",
              "      <td>...</td>\n",
              "      <td>...</td>\n",
              "    </tr>\n",
              "    <tr>\n",
              "      <th>568449</th>\n",
              "      <td>Great for sesame chicken..this is a good if no...</td>\n",
              "      <td>5</td>\n",
              "    </tr>\n",
              "    <tr>\n",
              "      <th>568450</th>\n",
              "      <td>I'm disappointed with the flavor. The chocolat...</td>\n",
              "      <td>2</td>\n",
              "    </tr>\n",
              "    <tr>\n",
              "      <th>568451</th>\n",
              "      <td>These stars are small, so you can give 10-15 o...</td>\n",
              "      <td>5</td>\n",
              "    </tr>\n",
              "    <tr>\n",
              "      <th>568452</th>\n",
              "      <td>These are the BEST treats for training and rew...</td>\n",
              "      <td>5</td>\n",
              "    </tr>\n",
              "    <tr>\n",
              "      <th>568453</th>\n",
              "      <td>I am very satisfied ,product is as advertised,...</td>\n",
              "      <td>5</td>\n",
              "    </tr>\n",
              "  </tbody>\n",
              "</table>\n",
              "<p>568454 rows × 2 columns</p>\n",
              "</div>\n",
              "      <button class=\"colab-df-convert\" onclick=\"convertToInteractive('df-7dc4f411-b221-49a5-80ac-d77288b15160')\"\n",
              "              title=\"Convert this dataframe to an interactive table.\"\n",
              "              style=\"display:none;\">\n",
              "        \n",
              "  <svg xmlns=\"http://www.w3.org/2000/svg\" height=\"24px\"viewBox=\"0 0 24 24\"\n",
              "       width=\"24px\">\n",
              "    <path d=\"M0 0h24v24H0V0z\" fill=\"none\"/>\n",
              "    <path d=\"M18.56 5.44l.94 2.06.94-2.06 2.06-.94-2.06-.94-.94-2.06-.94 2.06-2.06.94zm-11 1L8.5 8.5l.94-2.06 2.06-.94-2.06-.94L8.5 2.5l-.94 2.06-2.06.94zm10 10l.94 2.06.94-2.06 2.06-.94-2.06-.94-.94-2.06-.94 2.06-2.06.94z\"/><path d=\"M17.41 7.96l-1.37-1.37c-.4-.4-.92-.59-1.43-.59-.52 0-1.04.2-1.43.59L10.3 9.45l-7.72 7.72c-.78.78-.78 2.05 0 2.83L4 21.41c.39.39.9.59 1.41.59.51 0 1.02-.2 1.41-.59l7.78-7.78 2.81-2.81c.8-.78.8-2.07 0-2.86zM5.41 20L4 18.59l7.72-7.72 1.47 1.35L5.41 20z\"/>\n",
              "  </svg>\n",
              "      </button>\n",
              "      \n",
              "  <style>\n",
              "    .colab-df-container {\n",
              "      display:flex;\n",
              "      flex-wrap:wrap;\n",
              "      gap: 12px;\n",
              "    }\n",
              "\n",
              "    .colab-df-convert {\n",
              "      background-color: #E8F0FE;\n",
              "      border: none;\n",
              "      border-radius: 50%;\n",
              "      cursor: pointer;\n",
              "      display: none;\n",
              "      fill: #1967D2;\n",
              "      height: 32px;\n",
              "      padding: 0 0 0 0;\n",
              "      width: 32px;\n",
              "    }\n",
              "\n",
              "    .colab-df-convert:hover {\n",
              "      background-color: #E2EBFA;\n",
              "      box-shadow: 0px 1px 2px rgba(60, 64, 67, 0.3), 0px 1px 3px 1px rgba(60, 64, 67, 0.15);\n",
              "      fill: #174EA6;\n",
              "    }\n",
              "\n",
              "    [theme=dark] .colab-df-convert {\n",
              "      background-color: #3B4455;\n",
              "      fill: #D2E3FC;\n",
              "    }\n",
              "\n",
              "    [theme=dark] .colab-df-convert:hover {\n",
              "      background-color: #434B5C;\n",
              "      box-shadow: 0px 1px 3px 1px rgba(0, 0, 0, 0.15);\n",
              "      filter: drop-shadow(0px 1px 2px rgba(0, 0, 0, 0.3));\n",
              "      fill: #FFFFFF;\n",
              "    }\n",
              "  </style>\n",
              "\n",
              "      <script>\n",
              "        const buttonEl =\n",
              "          document.querySelector('#df-7dc4f411-b221-49a5-80ac-d77288b15160 button.colab-df-convert');\n",
              "        buttonEl.style.display =\n",
              "          google.colab.kernel.accessAllowed ? 'block' : 'none';\n",
              "\n",
              "        async function convertToInteractive(key) {\n",
              "          const element = document.querySelector('#df-7dc4f411-b221-49a5-80ac-d77288b15160');\n",
              "          const dataTable =\n",
              "            await google.colab.kernel.invokeFunction('convertToInteractive',\n",
              "                                                     [key], {});\n",
              "          if (!dataTable) return;\n",
              "\n",
              "          const docLinkHtml = 'Like what you see? Visit the ' +\n",
              "            '<a target=\"_blank\" href=https://colab.research.google.com/notebooks/data_table.ipynb>data table notebook</a>'\n",
              "            + ' to learn more about interactive tables.';\n",
              "          element.innerHTML = '';\n",
              "          dataTable['output_type'] = 'display_data';\n",
              "          await google.colab.output.renderOutput(dataTable, element);\n",
              "          const docLink = document.createElement('div');\n",
              "          docLink.innerHTML = docLinkHtml;\n",
              "          element.appendChild(docLink);\n",
              "        }\n",
              "      </script>\n",
              "    </div>\n",
              "  </div>\n",
              "  "
            ]
          },
          "metadata": {},
          "execution_count": 6
        }
      ]
    },
    {
      "cell_type": "code",
      "source": [
        "reviews.head()"
      ],
      "metadata": {
        "colab": {
          "base_uri": "https://localhost:8080/",
          "height": 206
        },
        "id": "2vzhEiJnYUIy",
        "outputId": "eb652e94-288d-4665-fde1-dd8f50d8ff16"
      },
      "execution_count": null,
      "outputs": [
        {
          "output_type": "execute_result",
          "data": {
            "text/plain": [
              "                                                Text  Score\n",
              "0  I have bought several of the Vitality canned d...      5\n",
              "1  Product arrived labeled as Jumbo Salted Peanut...      1\n",
              "2  This is a confection that has been around a fe...      4\n",
              "3  If you are looking for the secret ingredient i...      2\n",
              "4  Great taffy at a great price.  There was a wid...      5"
            ],
            "text/html": [
              "\n",
              "  <div id=\"df-b96f6e0f-c2ad-4b11-baac-79aa8c20f813\">\n",
              "    <div class=\"colab-df-container\">\n",
              "      <div>\n",
              "<style scoped>\n",
              "    .dataframe tbody tr th:only-of-type {\n",
              "        vertical-align: middle;\n",
              "    }\n",
              "\n",
              "    .dataframe tbody tr th {\n",
              "        vertical-align: top;\n",
              "    }\n",
              "\n",
              "    .dataframe thead th {\n",
              "        text-align: right;\n",
              "    }\n",
              "</style>\n",
              "<table border=\"1\" class=\"dataframe\">\n",
              "  <thead>\n",
              "    <tr style=\"text-align: right;\">\n",
              "      <th></th>\n",
              "      <th>Text</th>\n",
              "      <th>Score</th>\n",
              "    </tr>\n",
              "  </thead>\n",
              "  <tbody>\n",
              "    <tr>\n",
              "      <th>0</th>\n",
              "      <td>I have bought several of the Vitality canned d...</td>\n",
              "      <td>5</td>\n",
              "    </tr>\n",
              "    <tr>\n",
              "      <th>1</th>\n",
              "      <td>Product arrived labeled as Jumbo Salted Peanut...</td>\n",
              "      <td>1</td>\n",
              "    </tr>\n",
              "    <tr>\n",
              "      <th>2</th>\n",
              "      <td>This is a confection that has been around a fe...</td>\n",
              "      <td>4</td>\n",
              "    </tr>\n",
              "    <tr>\n",
              "      <th>3</th>\n",
              "      <td>If you are looking for the secret ingredient i...</td>\n",
              "      <td>2</td>\n",
              "    </tr>\n",
              "    <tr>\n",
              "      <th>4</th>\n",
              "      <td>Great taffy at a great price.  There was a wid...</td>\n",
              "      <td>5</td>\n",
              "    </tr>\n",
              "  </tbody>\n",
              "</table>\n",
              "</div>\n",
              "      <button class=\"colab-df-convert\" onclick=\"convertToInteractive('df-b96f6e0f-c2ad-4b11-baac-79aa8c20f813')\"\n",
              "              title=\"Convert this dataframe to an interactive table.\"\n",
              "              style=\"display:none;\">\n",
              "        \n",
              "  <svg xmlns=\"http://www.w3.org/2000/svg\" height=\"24px\"viewBox=\"0 0 24 24\"\n",
              "       width=\"24px\">\n",
              "    <path d=\"M0 0h24v24H0V0z\" fill=\"none\"/>\n",
              "    <path d=\"M18.56 5.44l.94 2.06.94-2.06 2.06-.94-2.06-.94-.94-2.06-.94 2.06-2.06.94zm-11 1L8.5 8.5l.94-2.06 2.06-.94-2.06-.94L8.5 2.5l-.94 2.06-2.06.94zm10 10l.94 2.06.94-2.06 2.06-.94-2.06-.94-.94-2.06-.94 2.06-2.06.94z\"/><path d=\"M17.41 7.96l-1.37-1.37c-.4-.4-.92-.59-1.43-.59-.52 0-1.04.2-1.43.59L10.3 9.45l-7.72 7.72c-.78.78-.78 2.05 0 2.83L4 21.41c.39.39.9.59 1.41.59.51 0 1.02-.2 1.41-.59l7.78-7.78 2.81-2.81c.8-.78.8-2.07 0-2.86zM5.41 20L4 18.59l7.72-7.72 1.47 1.35L5.41 20z\"/>\n",
              "  </svg>\n",
              "      </button>\n",
              "      \n",
              "  <style>\n",
              "    .colab-df-container {\n",
              "      display:flex;\n",
              "      flex-wrap:wrap;\n",
              "      gap: 12px;\n",
              "    }\n",
              "\n",
              "    .colab-df-convert {\n",
              "      background-color: #E8F0FE;\n",
              "      border: none;\n",
              "      border-radius: 50%;\n",
              "      cursor: pointer;\n",
              "      display: none;\n",
              "      fill: #1967D2;\n",
              "      height: 32px;\n",
              "      padding: 0 0 0 0;\n",
              "      width: 32px;\n",
              "    }\n",
              "\n",
              "    .colab-df-convert:hover {\n",
              "      background-color: #E2EBFA;\n",
              "      box-shadow: 0px 1px 2px rgba(60, 64, 67, 0.3), 0px 1px 3px 1px rgba(60, 64, 67, 0.15);\n",
              "      fill: #174EA6;\n",
              "    }\n",
              "\n",
              "    [theme=dark] .colab-df-convert {\n",
              "      background-color: #3B4455;\n",
              "      fill: #D2E3FC;\n",
              "    }\n",
              "\n",
              "    [theme=dark] .colab-df-convert:hover {\n",
              "      background-color: #434B5C;\n",
              "      box-shadow: 0px 1px 3px 1px rgba(0, 0, 0, 0.15);\n",
              "      filter: drop-shadow(0px 1px 2px rgba(0, 0, 0, 0.3));\n",
              "      fill: #FFFFFF;\n",
              "    }\n",
              "  </style>\n",
              "\n",
              "      <script>\n",
              "        const buttonEl =\n",
              "          document.querySelector('#df-b96f6e0f-c2ad-4b11-baac-79aa8c20f813 button.colab-df-convert');\n",
              "        buttonEl.style.display =\n",
              "          google.colab.kernel.accessAllowed ? 'block' : 'none';\n",
              "\n",
              "        async function convertToInteractive(key) {\n",
              "          const element = document.querySelector('#df-b96f6e0f-c2ad-4b11-baac-79aa8c20f813');\n",
              "          const dataTable =\n",
              "            await google.colab.kernel.invokeFunction('convertToInteractive',\n",
              "                                                     [key], {});\n",
              "          if (!dataTable) return;\n",
              "\n",
              "          const docLinkHtml = 'Like what you see? Visit the ' +\n",
              "            '<a target=\"_blank\" href=https://colab.research.google.com/notebooks/data_table.ipynb>data table notebook</a>'\n",
              "            + ' to learn more about interactive tables.';\n",
              "          element.innerHTML = '';\n",
              "          dataTable['output_type'] = 'display_data';\n",
              "          await google.colab.output.renderOutput(dataTable, element);\n",
              "          const docLink = document.createElement('div');\n",
              "          docLink.innerHTML = docLinkHtml;\n",
              "          element.appendChild(docLink);\n",
              "        }\n",
              "      </script>\n",
              "    </div>\n",
              "  </div>\n",
              "  "
            ]
          },
          "metadata": {},
          "execution_count": 7
        }
      ]
    },
    {
      "cell_type": "markdown",
      "source": [
        "#### In this project, we are trying to perform sentiment analysis which means that we are trying to classify whether a review is positive or negative. The Score column in the dataset contains the actual rating given by a user to a particular product. The rating is  out of 5. If the rating for any product is less than 3, we can assume that there is a high possibility that the rating for that product will be negative.  If the rating for any product is more than 3, we can assume that there is a high possibility that the rating for that product will be positive. A rating of 3 could mean a neutral review, neither positive nor negative. So if the Score is more than 3, we will replace it by 1 which means that the review is positive. If the Score is less than 3, we will replace it by 0 which means that the review is negative. If any row contains a Score of 3, we will remove that row from our dataset. "
      ],
      "metadata": {
        "id": "yrmwhi6iRCtG"
      }
    },
    {
      "cell_type": "code",
      "source": [
        "remove_third_row = []\n",
        "for ele, m in tqdm_notebook(reviews.iterrows()):\n",
        "    if m['Score'] > 3:\n",
        "       reviews.at[ele,'Score'] = 1\n",
        "    if m['Score'] < 3:\n",
        "       reviews.at[ele,'Score'] = 0\n",
        "    if m['Score'] == 3:\n",
        "       remove_third_row.append(ele)\n",
        "\n",
        "reviews = reviews.drop(remove_third_row)\n",
        "reviews"
      ],
      "metadata": {
        "colab": {
          "base_uri": "https://localhost:8080/",
          "height": 508,
          "referenced_widgets": [
            "2e164521b7e741f99f9c2bf4dd31e616",
            "b38d98f6b1344d3c9dd78fa4e7dcb033",
            "5757f08bce2249a390dcffecbfb3b1b3",
            "d524628619dc4b4781e851b01e0939a0",
            "742264504e9649318bd5837a3f1a6abc",
            "0ffeb4dca8114477920bf7c346590365",
            "761d7e2552f84783873c28c78d96dfc6",
            "dd288d6211a1405788dcd2bd835461bb",
            "38f1024b51324027bb0e720d4b42e1a3",
            "9e228fac97fa46c187b22dfffc0199ac",
            "1b71eb5c36ab4d3cbde7de26bc6dfbce"
          ]
        },
        "id": "I4OXtey9c0Nl",
        "outputId": "2feb9e31-7a99-4552-e282-ab41557eb288"
      },
      "execution_count": null,
      "outputs": [
        {
          "output_type": "stream",
          "name": "stderr",
          "text": [
            "/usr/local/lib/python3.7/dist-packages/ipykernel_launcher.py:6: TqdmDeprecationWarning: This function will be removed in tqdm==5.0.0\n",
            "Please use `tqdm.notebook.tqdm` instead of `tqdm.tqdm_notebook`\n",
            "  \n"
          ]
        },
        {
          "output_type": "display_data",
          "data": {
            "text/plain": [
              "0it [00:00, ?it/s]"
            ],
            "application/vnd.jupyter.widget-view+json": {
              "version_major": 2,
              "version_minor": 0,
              "model_id": "2e164521b7e741f99f9c2bf4dd31e616"
            }
          },
          "metadata": {}
        },
        {
          "output_type": "execute_result",
          "data": {
            "text/plain": [
              "                                                     Text  Score\n",
              "0       I have bought several of the Vitality canned d...      1\n",
              "1       Product arrived labeled as Jumbo Salted Peanut...      0\n",
              "2       This is a confection that has been around a fe...      1\n",
              "3       If you are looking for the secret ingredient i...      0\n",
              "4       Great taffy at a great price.  There was a wid...      1\n",
              "...                                                   ...    ...\n",
              "568449  Great for sesame chicken..this is a good if no...      1\n",
              "568450  I'm disappointed with the flavor. The chocolat...      0\n",
              "568451  These stars are small, so you can give 10-15 o...      1\n",
              "568452  These are the BEST treats for training and rew...      1\n",
              "568453  I am very satisfied ,product is as advertised,...      1\n",
              "\n",
              "[525814 rows x 2 columns]"
            ],
            "text/html": [
              "\n",
              "  <div id=\"df-55031843-c0ce-497d-9b7b-8a5118bf790f\">\n",
              "    <div class=\"colab-df-container\">\n",
              "      <div>\n",
              "<style scoped>\n",
              "    .dataframe tbody tr th:only-of-type {\n",
              "        vertical-align: middle;\n",
              "    }\n",
              "\n",
              "    .dataframe tbody tr th {\n",
              "        vertical-align: top;\n",
              "    }\n",
              "\n",
              "    .dataframe thead th {\n",
              "        text-align: right;\n",
              "    }\n",
              "</style>\n",
              "<table border=\"1\" class=\"dataframe\">\n",
              "  <thead>\n",
              "    <tr style=\"text-align: right;\">\n",
              "      <th></th>\n",
              "      <th>Text</th>\n",
              "      <th>Score</th>\n",
              "    </tr>\n",
              "  </thead>\n",
              "  <tbody>\n",
              "    <tr>\n",
              "      <th>0</th>\n",
              "      <td>I have bought several of the Vitality canned d...</td>\n",
              "      <td>1</td>\n",
              "    </tr>\n",
              "    <tr>\n",
              "      <th>1</th>\n",
              "      <td>Product arrived labeled as Jumbo Salted Peanut...</td>\n",
              "      <td>0</td>\n",
              "    </tr>\n",
              "    <tr>\n",
              "      <th>2</th>\n",
              "      <td>This is a confection that has been around a fe...</td>\n",
              "      <td>1</td>\n",
              "    </tr>\n",
              "    <tr>\n",
              "      <th>3</th>\n",
              "      <td>If you are looking for the secret ingredient i...</td>\n",
              "      <td>0</td>\n",
              "    </tr>\n",
              "    <tr>\n",
              "      <th>4</th>\n",
              "      <td>Great taffy at a great price.  There was a wid...</td>\n",
              "      <td>1</td>\n",
              "    </tr>\n",
              "    <tr>\n",
              "      <th>...</th>\n",
              "      <td>...</td>\n",
              "      <td>...</td>\n",
              "    </tr>\n",
              "    <tr>\n",
              "      <th>568449</th>\n",
              "      <td>Great for sesame chicken..this is a good if no...</td>\n",
              "      <td>1</td>\n",
              "    </tr>\n",
              "    <tr>\n",
              "      <th>568450</th>\n",
              "      <td>I'm disappointed with the flavor. The chocolat...</td>\n",
              "      <td>0</td>\n",
              "    </tr>\n",
              "    <tr>\n",
              "      <th>568451</th>\n",
              "      <td>These stars are small, so you can give 10-15 o...</td>\n",
              "      <td>1</td>\n",
              "    </tr>\n",
              "    <tr>\n",
              "      <th>568452</th>\n",
              "      <td>These are the BEST treats for training and rew...</td>\n",
              "      <td>1</td>\n",
              "    </tr>\n",
              "    <tr>\n",
              "      <th>568453</th>\n",
              "      <td>I am very satisfied ,product is as advertised,...</td>\n",
              "      <td>1</td>\n",
              "    </tr>\n",
              "  </tbody>\n",
              "</table>\n",
              "<p>525814 rows × 2 columns</p>\n",
              "</div>\n",
              "      <button class=\"colab-df-convert\" onclick=\"convertToInteractive('df-55031843-c0ce-497d-9b7b-8a5118bf790f')\"\n",
              "              title=\"Convert this dataframe to an interactive table.\"\n",
              "              style=\"display:none;\">\n",
              "        \n",
              "  <svg xmlns=\"http://www.w3.org/2000/svg\" height=\"24px\"viewBox=\"0 0 24 24\"\n",
              "       width=\"24px\">\n",
              "    <path d=\"M0 0h24v24H0V0z\" fill=\"none\"/>\n",
              "    <path d=\"M18.56 5.44l.94 2.06.94-2.06 2.06-.94-2.06-.94-.94-2.06-.94 2.06-2.06.94zm-11 1L8.5 8.5l.94-2.06 2.06-.94-2.06-.94L8.5 2.5l-.94 2.06-2.06.94zm10 10l.94 2.06.94-2.06 2.06-.94-2.06-.94-.94-2.06-.94 2.06-2.06.94z\"/><path d=\"M17.41 7.96l-1.37-1.37c-.4-.4-.92-.59-1.43-.59-.52 0-1.04.2-1.43.59L10.3 9.45l-7.72 7.72c-.78.78-.78 2.05 0 2.83L4 21.41c.39.39.9.59 1.41.59.51 0 1.02-.2 1.41-.59l7.78-7.78 2.81-2.81c.8-.78.8-2.07 0-2.86zM5.41 20L4 18.59l7.72-7.72 1.47 1.35L5.41 20z\"/>\n",
              "  </svg>\n",
              "      </button>\n",
              "      \n",
              "  <style>\n",
              "    .colab-df-container {\n",
              "      display:flex;\n",
              "      flex-wrap:wrap;\n",
              "      gap: 12px;\n",
              "    }\n",
              "\n",
              "    .colab-df-convert {\n",
              "      background-color: #E8F0FE;\n",
              "      border: none;\n",
              "      border-radius: 50%;\n",
              "      cursor: pointer;\n",
              "      display: none;\n",
              "      fill: #1967D2;\n",
              "      height: 32px;\n",
              "      padding: 0 0 0 0;\n",
              "      width: 32px;\n",
              "    }\n",
              "\n",
              "    .colab-df-convert:hover {\n",
              "      background-color: #E2EBFA;\n",
              "      box-shadow: 0px 1px 2px rgba(60, 64, 67, 0.3), 0px 1px 3px 1px rgba(60, 64, 67, 0.15);\n",
              "      fill: #174EA6;\n",
              "    }\n",
              "\n",
              "    [theme=dark] .colab-df-convert {\n",
              "      background-color: #3B4455;\n",
              "      fill: #D2E3FC;\n",
              "    }\n",
              "\n",
              "    [theme=dark] .colab-df-convert:hover {\n",
              "      background-color: #434B5C;\n",
              "      box-shadow: 0px 1px 3px 1px rgba(0, 0, 0, 0.15);\n",
              "      filter: drop-shadow(0px 1px 2px rgba(0, 0, 0, 0.3));\n",
              "      fill: #FFFFFF;\n",
              "    }\n",
              "  </style>\n",
              "\n",
              "      <script>\n",
              "        const buttonEl =\n",
              "          document.querySelector('#df-55031843-c0ce-497d-9b7b-8a5118bf790f button.colab-df-convert');\n",
              "        buttonEl.style.display =\n",
              "          google.colab.kernel.accessAllowed ? 'block' : 'none';\n",
              "\n",
              "        async function convertToInteractive(key) {\n",
              "          const element = document.querySelector('#df-55031843-c0ce-497d-9b7b-8a5118bf790f');\n",
              "          const dataTable =\n",
              "            await google.colab.kernel.invokeFunction('convertToInteractive',\n",
              "                                                     [key], {});\n",
              "          if (!dataTable) return;\n",
              "\n",
              "          const docLinkHtml = 'Like what you see? Visit the ' +\n",
              "            '<a target=\"_blank\" href=https://colab.research.google.com/notebooks/data_table.ipynb>data table notebook</a>'\n",
              "            + ' to learn more about interactive tables.';\n",
              "          element.innerHTML = '';\n",
              "          dataTable['output_type'] = 'display_data';\n",
              "          await google.colab.output.renderOutput(dataTable, element);\n",
              "          const docLink = document.createElement('div');\n",
              "          docLink.innerHTML = docLinkHtml;\n",
              "          element.appendChild(docLink);\n",
              "        }\n",
              "      </script>\n",
              "    </div>\n",
              "  </div>\n",
              "  "
            ]
          },
          "metadata": {},
          "execution_count": 8
        }
      ]
    },
    {
      "cell_type": "code",
      "source": [
        "def get_wordlen(x):\n",
        "    return len(x.split())\n",
        "\n",
        "reviews['len'] = reviews.Text.apply(get_wordlen)\n",
        "reviews = reviews[reviews.len<50]\n",
        "reviews = reviews.sample(n=100000, random_state=30)"
      ],
      "metadata": {
        "id": "1KPjPLzYdT9V"
      },
      "execution_count": null,
      "outputs": []
    },
    {
      "cell_type": "markdown",
      "source": [
        "#### We will now remove the HTML tags from the Text column in the dataset and store them in the Text column only."
      ],
      "metadata": {
        "id": "e2TzmVjaTZ6a"
      }
    },
    {
      "cell_type": "code",
      "source": [
        "for ele, m in tqdm_notebook(reviews.iterrows()):\n",
        "   f = re.sub(\"<.*>\", ' ',str(m['Text']))\n",
        "   reviews.at[ele,'Text'] = f"
      ],
      "metadata": {
        "colab": {
          "base_uri": "https://localhost:8080/",
          "height": 101,
          "referenced_widgets": [
            "e45584a59cb748dbb07da5f397da70cc",
            "70a621fd490246b4af6575007a83e019",
            "17f831900154421e98984d57ed8d83b8",
            "be8a63f41481422aa1510a1e2b7f116c",
            "bed45b79ff8e4a3ab2c951894b7043fd",
            "cd607c7543a944ef8d61107e2a2632aa",
            "49b2ba444bcd4641bf9f5abbee5c8d9b",
            "c8ab7e8b2361421bbdc254d5ec93287d",
            "5aaee225c726408ba84ab85750eb2243",
            "4c898b70788340adb666a5c33920dab8",
            "873bddb205094db5b3ba8e32e00afdd9"
          ]
        },
        "id": "Em54V-atdPjc",
        "outputId": "051acb3e-d384-405b-f745-9c0c1ac66b14"
      },
      "execution_count": null,
      "outputs": [
        {
          "output_type": "stream",
          "name": "stderr",
          "text": [
            "/usr/local/lib/python3.7/dist-packages/ipykernel_launcher.py:3: TqdmDeprecationWarning: This function will be removed in tqdm==5.0.0\n",
            "Please use `tqdm.notebook.tqdm` instead of `tqdm.tqdm_notebook`\n",
            "  This is separate from the ipykernel package so we can avoid doing imports until\n"
          ]
        },
        {
          "output_type": "display_data",
          "data": {
            "text/plain": [
              "0it [00:00, ?it/s]"
            ],
            "application/vnd.jupyter.widget-view+json": {
              "version_major": 2,
              "version_minor": 0,
              "model_id": "e45584a59cb748dbb07da5f397da70cc"
            }
          },
          "metadata": {}
        }
      ]
    },
    {
      "cell_type": "code",
      "source": [
        "reviews.head(5)"
      ],
      "metadata": {
        "colab": {
          "base_uri": "https://localhost:8080/",
          "height": 206
        },
        "id": "Bc5vRwpUdPmc",
        "outputId": "c67af0bd-5561-4168-a9a4-5d3bcc0368ca"
      },
      "execution_count": null,
      "outputs": [
        {
          "output_type": "execute_result",
          "data": {
            "text/plain": [
              "                                                     Text  Score  len\n",
              "64117   The tea was of great quality and it tasted lik...      1   30\n",
              "418112  My cat loves this.  The pellets are nice and s...      1   31\n",
              "357829  Great product. Does not completely get rid of ...      1   41\n",
              "175872  This gum is my favorite!  I would advise every...      1   27\n",
              "178716  I also found out about this product because of...      1   22"
            ],
            "text/html": [
              "\n",
              "  <div id=\"df-1c0101e4-95b1-416f-a073-40638d49a357\">\n",
              "    <div class=\"colab-df-container\">\n",
              "      <div>\n",
              "<style scoped>\n",
              "    .dataframe tbody tr th:only-of-type {\n",
              "        vertical-align: middle;\n",
              "    }\n",
              "\n",
              "    .dataframe tbody tr th {\n",
              "        vertical-align: top;\n",
              "    }\n",
              "\n",
              "    .dataframe thead th {\n",
              "        text-align: right;\n",
              "    }\n",
              "</style>\n",
              "<table border=\"1\" class=\"dataframe\">\n",
              "  <thead>\n",
              "    <tr style=\"text-align: right;\">\n",
              "      <th></th>\n",
              "      <th>Text</th>\n",
              "      <th>Score</th>\n",
              "      <th>len</th>\n",
              "    </tr>\n",
              "  </thead>\n",
              "  <tbody>\n",
              "    <tr>\n",
              "      <th>64117</th>\n",
              "      <td>The tea was of great quality and it tasted lik...</td>\n",
              "      <td>1</td>\n",
              "      <td>30</td>\n",
              "    </tr>\n",
              "    <tr>\n",
              "      <th>418112</th>\n",
              "      <td>My cat loves this.  The pellets are nice and s...</td>\n",
              "      <td>1</td>\n",
              "      <td>31</td>\n",
              "    </tr>\n",
              "    <tr>\n",
              "      <th>357829</th>\n",
              "      <td>Great product. Does not completely get rid of ...</td>\n",
              "      <td>1</td>\n",
              "      <td>41</td>\n",
              "    </tr>\n",
              "    <tr>\n",
              "      <th>175872</th>\n",
              "      <td>This gum is my favorite!  I would advise every...</td>\n",
              "      <td>1</td>\n",
              "      <td>27</td>\n",
              "    </tr>\n",
              "    <tr>\n",
              "      <th>178716</th>\n",
              "      <td>I also found out about this product because of...</td>\n",
              "      <td>1</td>\n",
              "      <td>22</td>\n",
              "    </tr>\n",
              "  </tbody>\n",
              "</table>\n",
              "</div>\n",
              "      <button class=\"colab-df-convert\" onclick=\"convertToInteractive('df-1c0101e4-95b1-416f-a073-40638d49a357')\"\n",
              "              title=\"Convert this dataframe to an interactive table.\"\n",
              "              style=\"display:none;\">\n",
              "        \n",
              "  <svg xmlns=\"http://www.w3.org/2000/svg\" height=\"24px\"viewBox=\"0 0 24 24\"\n",
              "       width=\"24px\">\n",
              "    <path d=\"M0 0h24v24H0V0z\" fill=\"none\"/>\n",
              "    <path d=\"M18.56 5.44l.94 2.06.94-2.06 2.06-.94-2.06-.94-.94-2.06-.94 2.06-2.06.94zm-11 1L8.5 8.5l.94-2.06 2.06-.94-2.06-.94L8.5 2.5l-.94 2.06-2.06.94zm10 10l.94 2.06.94-2.06 2.06-.94-2.06-.94-.94-2.06-.94 2.06-2.06.94z\"/><path d=\"M17.41 7.96l-1.37-1.37c-.4-.4-.92-.59-1.43-.59-.52 0-1.04.2-1.43.59L10.3 9.45l-7.72 7.72c-.78.78-.78 2.05 0 2.83L4 21.41c.39.39.9.59 1.41.59.51 0 1.02-.2 1.41-.59l7.78-7.78 2.81-2.81c.8-.78.8-2.07 0-2.86zM5.41 20L4 18.59l7.72-7.72 1.47 1.35L5.41 20z\"/>\n",
              "  </svg>\n",
              "      </button>\n",
              "      \n",
              "  <style>\n",
              "    .colab-df-container {\n",
              "      display:flex;\n",
              "      flex-wrap:wrap;\n",
              "      gap: 12px;\n",
              "    }\n",
              "\n",
              "    .colab-df-convert {\n",
              "      background-color: #E8F0FE;\n",
              "      border: none;\n",
              "      border-radius: 50%;\n",
              "      cursor: pointer;\n",
              "      display: none;\n",
              "      fill: #1967D2;\n",
              "      height: 32px;\n",
              "      padding: 0 0 0 0;\n",
              "      width: 32px;\n",
              "    }\n",
              "\n",
              "    .colab-df-convert:hover {\n",
              "      background-color: #E2EBFA;\n",
              "      box-shadow: 0px 1px 2px rgba(60, 64, 67, 0.3), 0px 1px 3px 1px rgba(60, 64, 67, 0.15);\n",
              "      fill: #174EA6;\n",
              "    }\n",
              "\n",
              "    [theme=dark] .colab-df-convert {\n",
              "      background-color: #3B4455;\n",
              "      fill: #D2E3FC;\n",
              "    }\n",
              "\n",
              "    [theme=dark] .colab-df-convert:hover {\n",
              "      background-color: #434B5C;\n",
              "      box-shadow: 0px 1px 3px 1px rgba(0, 0, 0, 0.15);\n",
              "      filter: drop-shadow(0px 1px 2px rgba(0, 0, 0, 0.3));\n",
              "      fill: #FFFFFF;\n",
              "    }\n",
              "  </style>\n",
              "\n",
              "      <script>\n",
              "        const buttonEl =\n",
              "          document.querySelector('#df-1c0101e4-95b1-416f-a073-40638d49a357 button.colab-df-convert');\n",
              "        buttonEl.style.display =\n",
              "          google.colab.kernel.accessAllowed ? 'block' : 'none';\n",
              "\n",
              "        async function convertToInteractive(key) {\n",
              "          const element = document.querySelector('#df-1c0101e4-95b1-416f-a073-40638d49a357');\n",
              "          const dataTable =\n",
              "            await google.colab.kernel.invokeFunction('convertToInteractive',\n",
              "                                                     [key], {});\n",
              "          if (!dataTable) return;\n",
              "\n",
              "          const docLinkHtml = 'Like what you see? Visit the ' +\n",
              "            '<a target=\"_blank\" href=https://colab.research.google.com/notebooks/data_table.ipynb>data table notebook</a>'\n",
              "            + ' to learn more about interactive tables.';\n",
              "          element.innerHTML = '';\n",
              "          dataTable['output_type'] = 'display_data';\n",
              "          await google.colab.output.renderOutput(dataTable, element);\n",
              "          const docLink = document.createElement('div');\n",
              "          docLink.innerHTML = docLinkHtml;\n",
              "          element.appendChild(docLink);\n",
              "        }\n",
              "      </script>\n",
              "    </div>\n",
              "  </div>\n",
              "  "
            ]
          },
          "metadata": {},
          "execution_count": 12
        }
      ]
    },
    {
      "cell_type": "markdown",
      "source": [
        "#### We will now perform the train-test split. We will perform stratified sampling. "
      ],
      "metadata": {
        "id": "qh1twidQTvs8"
      }
    },
    {
      "cell_type": "code",
      "source": [
        "X = reviews.drop('Score', axis=1) \n",
        "y = reviews['Score']\n",
        "\n",
        "X_train, X_test, y_train, y_test = train_test_split(X, y, stratify=y, test_size=0.20, random_state=33)"
      ],
      "metadata": {
        "id": "4pBoEDcdPU_s"
      },
      "execution_count": null,
      "outputs": []
    },
    {
      "cell_type": "markdown",
      "source": [
        "#### Let us now look at the number of positive and negative reviews in the train and test datasets."
      ],
      "metadata": {
        "id": "GIZt1INcT5un"
      }
    },
    {
      "cell_type": "code",
      "source": [
        "y_train.value_counts().plot(kind='bar', xlabel='Score', ylabel='Counts')"
      ],
      "metadata": {
        "colab": {
          "base_uri": "https://localhost:8080/",
          "height": 293
        },
        "id": "Oyft2PTOfXeQ",
        "outputId": "3d1e6408-1f75-468d-8727-04aeaee43d74"
      },
      "execution_count": null,
      "outputs": [
        {
          "output_type": "execute_result",
          "data": {
            "text/plain": [
              "<matplotlib.axes._subplots.AxesSubplot at 0x7f8f2fabaad0>"
            ]
          },
          "metadata": {},
          "execution_count": 14
        },
        {
          "output_type": "display_data",
          "data": {
            "text/plain": [
              "<Figure size 432x288 with 1 Axes>"
            ],
            "image/png": "[encoded data removed]"
          },
          "metadata": {
            "needs_background": "light"
          }
        }
      ]
    },
    {
      "cell_type": "code",
      "source": [
        "y_test.value_counts().plot(kind='bar',xlabel='Score', ylabel='Counts')"
      ],
      "metadata": {
        "colab": {
          "base_uri": "https://localhost:8080/",
          "height": 293
        },
        "id": "x6FhrszBfgqt",
        "outputId": "b3c3b914-9a48-48c7-ec85-85a90588bce5"
      },
      "execution_count": null,
      "outputs": [
        {
          "output_type": "execute_result",
          "data": {
            "text/plain": [
              "<matplotlib.axes._subplots.AxesSubplot at 0x7f8f2e471590>"
            ]
          },
          "metadata": {},
          "execution_count": 15
        },
        {
          "output_type": "display_data",
          "data": {
            "text/plain": [
              "<Figure size 432x288 with 1 Axes>"
            ],
            "image/png": "[encoded data removed]"
          },
          "metadata": {
            "needs_background": "light"
          }
        }
      ]
    },
    {
      "cell_type": "markdown",
      "metadata": {
        "id": "bBtqNGN9qVBM"
      },
      "source": [
        "## 2. Load a pre-trained BERT model from TensorFlow Hub\n",
        "#### We will be using the pre-trained BERT uncased model. It uses 12 hidden layers or transformer blocks, a hidden size of 768 and 12 attention heads. "
      ]
    },
    {
      "cell_type": "code",
      "metadata": {
        "id": "i8xd2HejqVBN"
      },
      "source": [
        "tf.keras.backend.clear_session()\n",
        "\n",
        "max_seq_length = 55\n",
        "\n",
        "input_word_ids = tf.keras.layers.Input(shape=(max_seq_length,), dtype=tf.int32, name=\"input_word_ids\")\n",
        "input_mask = tf.keras.layers.Input(shape=(max_seq_length,), dtype=tf.int32, name=\"input_mask\")\n",
        "segment_ids = tf.keras.layers.Input(shape=(max_seq_length,), dtype=tf.int32, name=\"segment_ids\")\n",
        "\n",
        "bert_layer = hub.KerasLayer(\"https://tfhub.dev/tensorflow/bert_en_uncased_L-12_H-768_A-12/1\", trainable=False)\n",
        "pooled_output, sequence_output = bert_layer([input_word_ids, input_mask, segment_ids])\n",
        "\n",
        "bert_model = Model(inputs=[input_word_ids, input_mask, segment_ids], outputs=pooled_output)\n"
      ],
      "execution_count": null,
      "outputs": []
    },
    {
      "cell_type": "code",
      "metadata": {
        "id": "lQJsjg6fqVBQ",
        "colab": {
          "base_uri": "https://localhost:8080/"
        },
        "outputId": "f074c6d3-69d1-44a6-f4fa-4205b300d310"
      },
      "source": [
        "bert_model.summary()"
      ],
      "execution_count": null,
      "outputs": [
        {
          "output_type": "stream",
          "name": "stdout",
          "text": [
            "Model: \"model\"\n",
            "__________________________________________________________________________________________________\n",
            " Layer (type)                   Output Shape         Param #     Connected to                     \n",
            "==================================================================================================\n",
            " input_word_ids (InputLayer)    [(None, 55)]         0           []                               \n",
            "                                                                                                  \n",
            " input_mask (InputLayer)        [(None, 55)]         0           []                               \n",
            "                                                                                                  \n",
            " segment_ids (InputLayer)       [(None, 55)]         0           []                               \n",
            "                                                                                                  \n",
            " keras_layer (KerasLayer)       [(None, 768),        109482241   ['input_word_ids[0][0]',         \n",
            "                                 (None, 55, 768)]                 'input_mask[0][0]',             \n",
            "                                                                  'segment_ids[0][0]']            \n",
            "                                                                                                  \n",
            "==================================================================================================\n",
            "Total params: 109,482,241\n",
            "Trainable params: 0\n",
            "Non-trainable params: 109,482,241\n",
            "__________________________________________________________________________________________________\n"
          ]
        }
      ]
    },
    {
      "cell_type": "code",
      "source": [
        "bert_model.output"
      ],
      "metadata": {
        "colab": {
          "base_uri": "https://localhost:8080/"
        },
        "id": "RjMI1rSmf57Y",
        "outputId": "ceeffcfd-bb2f-4283-8986-ebfb49684d74"
      },
      "execution_count": null,
      "outputs": [
        {
          "output_type": "execute_result",
          "data": {
            "text/plain": [
              "<KerasTensor: shape=(None, 768) dtype=float32 (created by layer 'keras_layer')>"
            ]
          },
          "metadata": {},
          "execution_count": 20
        }
      ]
    },
    {
      "cell_type": "markdown",
      "metadata": {
        "id": "Ewv4hFCsqVBU"
      },
      "source": [
        "## 3. Perform Tokenization\n",
        "#### Here we will convert the text to a sequence of integers."
      ]
    },
    {
      "cell_type": "code",
      "metadata": {
        "id": "tX3VEFjiqVBU"
      },
      "source": [
        "vocab_file = bert_layer.resolved_object.vocab_file.asset_path.numpy()\n",
        "do_lower_case = bert_layer.resolved_object.do_lower_case.numpy()"
      ],
      "execution_count": null,
      "outputs": []
    },
    {
      "cell_type": "code",
      "source": [
        "!pip install sentencepiece"
      ],
      "metadata": {
        "colab": {
          "base_uri": "https://localhost:8080/"
        },
        "id": "uvF6Y3OEXvHy",
        "outputId": "1627f909-628a-4821-d828-8281bcadba7f"
      },
      "execution_count": null,
      "outputs": [
        {
          "output_type": "stream",
          "name": "stdout",
          "text": [
            "Looking in indexes: https://pypi.org/simple, https://us-python.pkg.dev/colab-wheels/public/simple/\n",
            "Collecting sentencepiece\n",
            "  Downloading sentencepiece-0.1.97-cp37-cp37m-manylinux_2_17_x86_64.manylinux2014_x86_64.whl (1.3 MB)\n",
            "\u001b[K     |████████████████████████████████| 1.3 MB 9.7 MB/s \n",
            "\u001b[?25hInstalling collected packages: sentencepiece\n",
            "Successfully installed sentencepiece-0.1.97\n"
          ]
        }
      ]
    },
    {
      "cell_type": "code",
      "source": [
        "import tokenization\n",
        "\n",
        "tokenizer=tokenization.FullTokenizer(vocab_file,do_lower_case )"
      ],
      "metadata": {
        "id": "4CLAete7j-yM"
      },
      "execution_count": null,
      "outputs": []
    },
    {
      "cell_type": "code",
      "source": [
        "max_no_of_tokens = 55\n",
        "X_train_tokens=[]\n",
        "X_train_mask = []\n",
        "X_train_segment = []"
      ],
      "metadata": {
        "id": "dQeClyBknpur"
      },
      "execution_count": null,
      "outputs": []
    },
    {
      "cell_type": "code",
      "metadata": {
        "id": "9crhPylQqVBg",
        "colab": {
          "base_uri": "https://localhost:8080/",
          "height": 101,
          "referenced_widgets": [
            "0b8c0ca4036d481983403f5db5bbd791",
            "2756aa92a1a64390b98e3f87ba69dbeb",
            "f0a4d0cf16d349ee96d7d02e6e40fd32",
            "2d3094c3710c4266aa81e686f93edd41",
            "d1b3747b7e844a12b2c6294f619470c5",
            "635f3fe08ed542bf9ae0bb21bb73672d",
            "795752f9eb2844c08f82889931583483",
            "bfaa0db38aac4d4186033585b36b7b4f",
            "c6bf19fccaea461692e21ea1a592ab0b",
            "489d737a2d4a49c1aab9131b349f98a2",
            "f6c96acf5a2547ac8c796cb6d1158c8d"
          ]
        },
        "outputId": "d5436fc7-d1c3-4a45-dee1-e6614a145170"
      },
      "source": [
        "for ele in tqdm_notebook(range(len(X_train))):\n",
        "    tk=tokenizer.tokenize(X_train.values[ele][0])\n",
        "    if len(tk)>= max_no_of_tokens-2:\n",
        "       tk = tk[0:(max_no_of_tokens-2)]\n",
        "\n",
        "    tk = ['[CLS]',*tk,'[SEP]']\n",
        "    pd = max_no_of_tokens - len(tk)\n",
        "    if pd > 0 :\n",
        "      ps = ['[PAD]']*pd\n",
        "      tk_final = [*tk,*ps]\n",
        "    else:\n",
        "      tk_final = tk\n",
        "    t = np.array(tokenizer.convert_tokens_to_ids(tk_final))\n",
        "    m_t = np.array([1]*len(tk)+[0]*pd)\n",
        "    s_t = np.array([0]*len(tk_final))\n",
        "\n",
        "    X_train_tokens.append(t)\n",
        "    X_train_mask.append(m_t)\n",
        "    X_train_segment.append(s_t)"
      ],
      "execution_count": null,
      "outputs": [
        {
          "output_type": "stream",
          "name": "stderr",
          "text": [
            "/usr/local/lib/python3.7/dist-packages/ipykernel_launcher.py:1: TqdmDeprecationWarning: This function will be removed in tqdm==5.0.0\n",
            "Please use `tqdm.notebook.tqdm` instead of `tqdm.tqdm_notebook`\n",
            "  \"\"\"Entry point for launching an IPython kernel.\n"
          ]
        },
        {
          "output_type": "display_data",
          "data": {
            "text/plain": [
              "  0%|          | 0/80000 [00:00<?, ?it/s]"
            ],
            "application/vnd.jupyter.widget-view+json": {
              "version_major": 2,
              "version_minor": 0,
              "model_id": "0b8c0ca4036d481983403f5db5bbd791"
            }
          },
          "metadata": {}
        }
      ]
    },
    {
      "cell_type": "code",
      "source": [
        "X_train_tokens = np.asarray(X_train_tokens)\n",
        "print(X_train_tokens.shape)"
      ],
      "metadata": {
        "colab": {
          "base_uri": "https://localhost:8080/"
        },
        "id": "oRFvDALJt7Z7",
        "outputId": "e163dfc5-b81b-46a3-ee50-245654ffe5a5"
      },
      "execution_count": null,
      "outputs": [
        {
          "output_type": "stream",
          "name": "stdout",
          "text": [
            "(80000, 55)\n"
          ]
        }
      ]
    },
    {
      "cell_type": "code",
      "source": [
        "X_train_mask = np.asarray(X_train_mask)\n",
        "print(X_train_mask.shape)"
      ],
      "metadata": {
        "colab": {
          "base_uri": "https://localhost:8080/"
        },
        "id": "C1OmZab6uGbH",
        "outputId": "a60c353c-ea24-481b-f2c2-3fb90d477eb5"
      },
      "execution_count": null,
      "outputs": [
        {
          "output_type": "stream",
          "name": "stdout",
          "text": [
            "(80000, 55)\n"
          ]
        }
      ]
    },
    {
      "cell_type": "code",
      "source": [
        "X_train_segment = np.asarray(X_train_segment)\n",
        "print(X_train_segment.shape)"
      ],
      "metadata": {
        "colab": {
          "base_uri": "https://localhost:8080/"
        },
        "id": "3op2ltC4uOPV",
        "outputId": "e81dce57-7eb0-4ee9-e7de-309e7fc2de37"
      },
      "execution_count": null,
      "outputs": [
        {
          "output_type": "stream",
          "name": "stdout",
          "text": [
            "(80000, 55)\n"
          ]
        }
      ]
    },
    {
      "cell_type": "code",
      "source": [
        "max_no_of_tokens = 55\n",
        "X_test_tokens=[]\n",
        "X_test_mask = []\n",
        "X_test_segment = []"
      ],
      "metadata": {
        "id": "LV1SHRXUuu6J"
      },
      "execution_count": null,
      "outputs": []
    },
    {
      "cell_type": "code",
      "metadata": {
        "colab": {
          "base_uri": "https://localhost:8080/",
          "height": 101,
          "referenced_widgets": [
            "ef4341d783914ca199793412dc3ba2a0",
            "2fd1171626a9424daae9bb898b14a677",
            "261fed5ab02940c68ad2a210ecae031b",
            "d8e477cfe35944c585c8f7b1432d4c6c",
            "bf42d478782348028a09ffc02ecc1651",
            "4d63b9892ac340a389d8fe313b071efb",
            "6111cf40a40145ca924c71e9f4868e39",
            "c9048301b63241d0ac0bf6e7c0a5bc90",
            "c81d5cad78bd4d288b5bf2634871faba",
            "d239d203813f44d0ad03a202bc506b98",
            "ede59250810b43e39ecc5cd7becaa629"
          ]
        },
        "outputId": "643cfe65-386b-474b-bb38-8eccf0a11b35",
        "id": "CKbp0RhGuy2V"
      },
      "source": [
        "for ele in tqdm_notebook(range(len(X_test))):\n",
        "    tk=tokenizer.tokenize(X_test.values[ele][0])\n",
        "    if len(tk)>= max_no_of_tokens-2:\n",
        "       tk = tk[0:(max_no_of_tokens-2)]\n",
        "\n",
        "    tk = ['[CLS]',*tk,'[SEP]']\n",
        "    pd = max_no_of_tokens - len(tk)\n",
        "    if pd > 0 :\n",
        "      ps = ['[PAD]']*pd\n",
        "      tk_final = [*tk,*ps]\n",
        "    else:\n",
        "      tk_final = tk\n",
        "    t = np.array(tokenizer.convert_tokens_to_ids(tk_final))\n",
        "    m_t = np.array([1]*len(tk)+[0]*pd)\n",
        "    s_t = np.array([0]*len(tk_final))\n",
        "\n",
        "    X_test_tokens.append(t)\n",
        "    X_test_mask.append(m_t)\n",
        "    X_test_segment.append(s_t)"
      ],
      "execution_count": null,
      "outputs": [
        {
          "output_type": "stream",
          "name": "stderr",
          "text": [
            "/usr/local/lib/python3.7/dist-packages/ipykernel_launcher.py:1: TqdmDeprecationWarning: This function will be removed in tqdm==5.0.0\n",
            "Please use `tqdm.notebook.tqdm` instead of `tqdm.tqdm_notebook`\n",
            "  \"\"\"Entry point for launching an IPython kernel.\n"
          ]
        },
        {
          "output_type": "display_data",
          "data": {
            "text/plain": [
              "  0%|          | 0/20000 [00:00<?, ?it/s]"
            ],
            "application/vnd.jupyter.widget-view+json": {
              "version_major": 2,
              "version_minor": 0,
              "model_id": "ef4341d783914ca199793412dc3ba2a0"
            }
          },
          "metadata": {}
        }
      ]
    },
    {
      "cell_type": "code",
      "source": [
        "X_test_tokens = np.asarray(X_test_tokens)\n",
        "print(X_test_tokens.shape)"
      ],
      "metadata": {
        "colab": {
          "base_uri": "https://localhost:8080/"
        },
        "outputId": "f1e8f3f4-e088-4e41-fdb9-04038f04be8f",
        "id": "LH7pAjWMvXxQ"
      },
      "execution_count": null,
      "outputs": [
        {
          "output_type": "stream",
          "name": "stdout",
          "text": [
            "(20000, 55)\n"
          ]
        }
      ]
    },
    {
      "cell_type": "code",
      "source": [
        "X_test_mask = np.asarray(X_test_mask)\n",
        "print(X_test_mask.shape)"
      ],
      "metadata": {
        "id": "Uyufcmo6hPQE",
        "colab": {
          "base_uri": "https://localhost:8080/"
        },
        "outputId": "26d3338b-3409-47c7-d209-6374d951cf3f"
      },
      "execution_count": null,
      "outputs": [
        {
          "output_type": "stream",
          "name": "stdout",
          "text": [
            "(20000, 55)\n"
          ]
        }
      ]
    },
    {
      "cell_type": "code",
      "source": [
        "X_test_segment = np.asarray(X_test_segment)\n",
        "print(X_test_segment.shape)"
      ],
      "metadata": {
        "colab": {
          "base_uri": "https://localhost:8080/"
        },
        "id": "Q7GzNh0AvoQp",
        "outputId": "430465d9-35d6-464c-aae8-f4ea83e3d0a5"
      },
      "execution_count": null,
      "outputs": [
        {
          "output_type": "stream",
          "name": "stdout",
          "text": [
            "(20000, 55)\n"
          ]
        }
      ]
    },
    {
      "cell_type": "markdown",
      "metadata": {
        "id": "SEj-Eua5qVBx"
      },
      "source": [
        "## 4. For each review in the train and the test dataset, we will get the embedding vector from the pre-trained BERT model."
      ]
    },
    {
      "cell_type": "code",
      "metadata": {
        "id": "QwOVgQFDqVBy",
        "colab": {
          "base_uri": "https://localhost:8080/"
        },
        "outputId": "ebf28b84-453b-4e2d-fa1e-225f3cf11082"
      },
      "source": [
        "bert_model.input"
      ],
      "execution_count": null,
      "outputs": [
        {
          "output_type": "execute_result",
          "data": {
            "text/plain": [
              "[<KerasTensor: shape=(None, 55) dtype=int32 (created by layer 'input_word_ids')>,\n",
              " <KerasTensor: shape=(None, 55) dtype=int32 (created by layer 'input_mask')>,\n",
              " <KerasTensor: shape=(None, 55) dtype=int32 (created by layer 'segment_ids')>]"
            ]
          },
          "metadata": {},
          "execution_count": 41
        }
      ]
    },
    {
      "cell_type": "code",
      "metadata": {
        "id": "ZcpkQq1OqVB0",
        "colab": {
          "base_uri": "https://localhost:8080/"
        },
        "outputId": "adfb60c7-d865-473e-9244-9e1471f6fdb5"
      },
      "source": [
        "bert_model.output"
      ],
      "execution_count": null,
      "outputs": [
        {
          "output_type": "execute_result",
          "data": {
            "text/plain": [
              "<KerasTensor: shape=(None, 768) dtype=float32 (created by layer 'keras_layer')>"
            ]
          },
          "metadata": {},
          "execution_count": 42
        }
      ]
    },
    {
      "cell_type": "code",
      "metadata": {
        "id": "IxdIlOIBlm7j"
      },
      "source": [
        "X_train_pooled_output=bert_model.predict([X_train_tokens,X_train_mask,X_train_segment])"
      ],
      "execution_count": null,
      "outputs": []
    },
    {
      "cell_type": "code",
      "metadata": {
        "id": "yZT11BCol4gL"
      },
      "source": [
        "X_test_pooled_output=bert_model.predict([X_test_tokens,X_test_mask,X_test_segment])"
      ],
      "execution_count": null,
      "outputs": []
    },
    {
      "cell_type": "markdown",
      "metadata": {
        "id": "oYwS1QbAqVCD"
      },
      "source": [
        "## 5. We will now train a Neural Network model on top of the output obtained from the pre-trained BERT model . We will be using AUC as a metric to evaluate our model's performance."
      ]
    },
    {
      "cell_type": "code",
      "source": [
        "score_train = to_categorical(y_train)\n",
        "score_test = to_categorical(y_test)"
      ],
      "metadata": {
        "id": "FZpQCVEtGpRO"
      },
      "execution_count": null,
      "outputs": []
    },
    {
      "cell_type": "code",
      "source": [
        "#Reference: https://keras.io/getting-started/faq/#how-can-i-obtain-reproducible-results-using-keras-during-development\n",
        "\n",
        "def select_optimal_hyperparameters(list_activation,list_lr):\n",
        "     \n",
        "     os.environ['PYTHONHASHSEED'] = '0'\n",
        "     tf.keras.backend.clear_session()\n",
        "\n",
        "     input_layer = tf.keras.layers.Input(shape=(X_train_pooled_output.shape[1],))\n",
        " \n",
        "     dense_1 = tf.keras.layers.Dense(64,activation=list_activation,kernel_initializer=tf.keras.initializers.RandomNormal(seed=25),name = 'dense_1')(input_layer)\n",
        "     dense_2 = tf.keras.layers.Dense(64,activation=list_activation,kernel_initializer=tf.keras.initializers.RandomNormal(seed=25),name = 'dense_2')(dense_1)\n",
        "     dense_3 = tf.keras.layers.Dense(64,activation=list_activation,kernel_initializer=tf.keras.initializers.RandomNormal(seed=25),name = 'dense_3')(dense_2)\n",
        "     dense_4 = tf.keras.layers.Dense(64,activation=list_activation,kernel_initializer=tf.keras.initializers.RandomNormal(seed=25),name = 'dense_4')(dense_3)\n",
        "\n",
        "     output_layer = tf.keras.layers.Dense(2,activation='softmax',kernel_initializer=tf.keras.initializers.RandomNormal(seed=24),name = \"output_layer\")(dense_4)\n",
        "\n",
        "     final_model = tf.keras.models.Model(inputs=input_layer,outputs=output_layer)\n",
        "\n",
        "     final_model.compile(optimizer=tf.keras.optimizers.Adam(learning_rate=list_lr),loss='binary_crossentropy',metrics=['AUC','accuracy'])\n",
        "   \n",
        "     return final_model"
      ],
      "metadata": {
        "id": "UlNdeQix-CEJ"
      },
      "execution_count": null,
      "outputs": []
    },
    {
      "cell_type": "code",
      "source": [
        "# Grid Search over the following parameters\n",
        "list_activation = ['sigmoid','relu']\n",
        "list_lr = [0.01,0.0001]"
      ],
      "metadata": {
        "id": "P0-w2e0J-CFV"
      },
      "execution_count": null,
      "outputs": []
    },
    {
      "cell_type": "code",
      "source": [
        "# All parameters added to a dictionary\n",
        "param_grid = dict(list_activation=list_activation,list_lr=list_lr)"
      ],
      "metadata": {
        "id": "d0QA2zkq-6En"
      },
      "execution_count": null,
      "outputs": []
    },
    {
      "cell_type": "code",
      "source": [
        "model = KerasClassifier(build_fn=select_optimal_hyperparameters, epochs=5, batch_size=10, verbose=1)\n",
        "param_grid = dict(list_activation=list_activation,list_lr=list_lr)\n",
        "\n",
        "gs = GridSearchCV(estimator=model, param_grid=param_grid)\n",
        "search_res = gs.fit(X_train_pooled_output, score_train)"
      ],
      "metadata": {
        "colab": {
          "base_uri": "https://localhost:8080/"
        },
        "id": "hpMh0qzxKRMU",
        "outputId": "4c03e06e-f382-4fe5-88b3-369c75887ebe"
      },
      "execution_count": null,
      "outputs": [
        {
          "output_type": "stream",
          "name": "stderr",
          "text": [
            "/usr/local/lib/python3.7/dist-packages/ipykernel_launcher.py:1: DeprecationWarning: KerasClassifier is deprecated, use Sci-Keras (https://github.com/adriangb/scikeras) instead. See https://www.adriangb.com/scikeras/stable/migration.html for help migrating.\n",
            "  \"\"\"Entry point for launching an IPython kernel.\n"
          ]
        },
        {
          "output_type": "stream",
          "name": "stdout",
          "text": [
            "Epoch 1/5\n",
            "6400/6400 [==============================] - 26s 4ms/step - loss: 0.3908 - auc: 0.8717 - accuracy: 0.8709\n",
            "Epoch 2/5\n",
            "6400/6400 [==============================] - 24s 4ms/step - loss: 0.3907 - auc: 0.8679 - accuracy: 0.8709\n",
            "Epoch 3/5\n",
            "6400/6400 [==============================] - 24s 4ms/step - loss: 0.3904 - auc: 0.8713 - accuracy: 0.8709\n",
            "Epoch 4/5\n",
            "6400/6400 [==============================] - 24s 4ms/step - loss: 0.3905 - auc: 0.8712 - accuracy: 0.8709\n",
            "Epoch 5/5\n",
            "6400/6400 [==============================] - 24s 4ms/step - loss: 0.3903 - auc: 0.8712 - accuracy: 0.8709\n",
            "1600/1600 [==============================] - 5s 3ms/step - loss: 0.3926 - auc: 0.8667 - accuracy: 0.8667\n",
            "Epoch 1/5\n",
            "6400/6400 [==============================] - 25s 4ms/step - loss: 0.3910 - auc: 0.8694 - accuracy: 0.8700\n",
            "Epoch 2/5\n",
            "6400/6400 [==============================] - 24s 4ms/step - loss: 0.3905 - auc: 0.8692 - accuracy: 0.8700\n",
            "Epoch 3/5\n",
            "6400/6400 [==============================] - 24s 4ms/step - loss: 0.3901 - auc: 0.8702 - accuracy: 0.8700\n",
            "Epoch 4/5\n",
            "6400/6400 [==============================] - 24s 4ms/step - loss: 0.3904 - auc: 0.8686 - accuracy: 0.8700\n",
            "Epoch 5/5\n",
            "6400/6400 [==============================] - 24s 4ms/step - loss: 0.3908 - auc: 0.8681 - accuracy: 0.8700\n",
            "1600/1600 [==============================] - 5s 3ms/step - loss: 0.3873 - auc: 0.8703 - accuracy: 0.8703\n",
            "Epoch 1/5\n",
            "6400/6400 [==============================] - 24s 4ms/step - loss: 0.3946 - auc: 0.8686 - accuracy: 0.8689\n",
            "Epoch 2/5\n",
            "6400/6400 [==============================] - 24s 4ms/step - loss: 0.3942 - auc: 0.8689 - accuracy: 0.8689\n",
            "Epoch 3/5\n",
            "6400/6400 [==============================] - 24s 4ms/step - loss: 0.3940 - auc: 0.8684 - accuracy: 0.8689\n",
            "Epoch 4/5\n",
            "6400/6400 [==============================] - 24s 4ms/step - loss: 0.3943 - auc: 0.8683 - accuracy: 0.8689\n",
            "Epoch 5/5\n",
            "6400/6400 [==============================] - 24s 4ms/step - loss: 0.3943 - auc: 0.8687 - accuracy: 0.8689\n",
            "1600/1600 [==============================] - 5s 3ms/step - loss: 0.3849 - auc: 0.8746 - accuracy: 0.8746\n",
            "Epoch 1/5\n",
            "6400/6400 [==============================] - 24s 4ms/step - loss: 0.3920 - auc: 0.8699 - accuracy: 0.8702\n",
            "Epoch 2/5\n",
            "6400/6400 [==============================] - 24s 4ms/step - loss: 0.3924 - auc: 0.8702 - accuracy: 0.8702\n",
            "Epoch 3/5\n",
            "6400/6400 [==============================] - 24s 4ms/step - loss: 0.3916 - auc: 0.8710 - accuracy: 0.8702\n",
            "Epoch 4/5\n",
            "6400/6400 [==============================] - 24s 4ms/step - loss: 0.3921 - auc: 0.8709 - accuracy: 0.8702\n",
            "Epoch 5/5\n",
            "6400/6400 [==============================] - 24s 4ms/step - loss: 0.3922 - auc: 0.8704 - accuracy: 0.8702\n",
            "1600/1600 [==============================] - 5s 3ms/step - loss: 0.3958 - auc: 0.8693 - accuracy: 0.8693\n",
            "Epoch 1/5\n",
            "6400/6400 [==============================] - 25s 4ms/step - loss: 0.3935 - auc: 0.8707 - accuracy: 0.8702\n",
            "Epoch 2/5\n",
            "6400/6400 [==============================] - 23s 4ms/step - loss: 0.3935 - auc: 0.8696 - accuracy: 0.8702\n",
            "Epoch 3/5\n",
            "6400/6400 [==============================] - 24s 4ms/step - loss: 0.3929 - auc: 0.8698 - accuracy: 0.8702\n",
            "Epoch 4/5\n",
            "6400/6400 [==============================] - 23s 4ms/step - loss: 0.3936 - auc: 0.8697 - accuracy: 0.8702\n",
            "Epoch 5/5\n",
            "6400/6400 [==============================] - 24s 4ms/step - loss: 0.3927 - auc: 0.8700 - accuracy: 0.8702\n",
            "1600/1600 [==============================] - 5s 3ms/step - loss: 0.3883 - auc: 0.8693 - accuracy: 0.8693\n",
            "Epoch 1/5\n",
            "6400/6400 [==============================] - 24s 4ms/step - loss: 0.3890 - auc: 0.8832 - accuracy: 0.8709\n",
            "Epoch 2/5\n",
            "6400/6400 [==============================] - 23s 4ms/step - loss: 0.3618 - auc: 0.9363 - accuracy: 0.8709\n",
            "Epoch 3/5\n",
            "6400/6400 [==============================] - 23s 4ms/step - loss: 0.2725 - auc: 0.9559 - accuracy: 0.8804\n",
            "Epoch 4/5\n",
            "6400/6400 [==============================] - 23s 4ms/step - loss: 0.2236 - auc: 0.9663 - accuracy: 0.9062\n",
            "Epoch 5/5\n",
            "6400/6400 [==============================] - 23s 4ms/step - loss: 0.2081 - auc: 0.9700 - accuracy: 0.9133\n",
            "1600/1600 [==============================] - 5s 3ms/step - loss: 0.2058 - auc: 0.9722 - accuracy: 0.9139\n",
            "Epoch 1/5\n",
            "6400/6400 [==============================] - 24s 4ms/step - loss: 0.3907 - auc: 0.8828 - accuracy: 0.8700\n",
            "Epoch 2/5\n",
            "6400/6400 [==============================] - 23s 4ms/step - loss: 0.3655 - auc: 0.9334 - accuracy: 0.8700\n",
            "Epoch 3/5\n",
            "6400/6400 [==============================] - 23s 4ms/step - loss: 0.2747 - auc: 0.9552 - accuracy: 0.8804\n",
            "Epoch 4/5\n",
            "6400/6400 [==============================] - 24s 4ms/step - loss: 0.2247 - auc: 0.9661 - accuracy: 0.9062\n",
            "Epoch 5/5\n",
            "6400/6400 [==============================] - 23s 4ms/step - loss: 0.2090 - auc: 0.9698 - accuracy: 0.9127\n",
            "1600/1600 [==============================] - 5s 3ms/step - loss: 0.2047 - auc: 0.9696 - accuracy: 0.9143\n",
            "Epoch 1/5\n",
            "6400/6400 [==============================] - 24s 4ms/step - loss: 0.3928 - auc: 0.8792 - accuracy: 0.8689\n",
            "Epoch 2/5\n",
            "6400/6400 [==============================] - 24s 4ms/step - loss: 0.3677 - auc: 0.9342 - accuracy: 0.8689\n",
            "Epoch 3/5\n",
            "6400/6400 [==============================] - 24s 4ms/step - loss: 0.2804 - auc: 0.9542 - accuracy: 0.8774\n",
            "Epoch 4/5\n",
            "6400/6400 [==============================] - 24s 4ms/step - loss: 0.2272 - auc: 0.9655 - accuracy: 0.9044\n",
            "Epoch 5/5\n",
            "6400/6400 [==============================] - 24s 4ms/step - loss: 0.2100 - auc: 0.9695 - accuracy: 0.9129\n",
            "1600/1600 [==============================] - 5s 3ms/step - loss: 0.2057 - auc: 0.9722 - accuracy: 0.9126\n",
            "Epoch 1/5\n",
            "6400/6400 [==============================] - 24s 4ms/step - loss: 0.3899 - auc: 0.8813 - accuracy: 0.8702\n",
            "Epoch 2/5\n",
            "6400/6400 [==============================] - 23s 4ms/step - loss: 0.3642 - auc: 0.9364 - accuracy: 0.8702\n",
            "Epoch 3/5\n",
            "6400/6400 [==============================] - 23s 4ms/step - loss: 0.2762 - auc: 0.9553 - accuracy: 0.8796\n",
            "Epoch 4/5\n",
            "6400/6400 [==============================] - 24s 4ms/step - loss: 0.2254 - auc: 0.9662 - accuracy: 0.9042\n",
            "Epoch 5/5\n",
            "6400/6400 [==============================] - 24s 4ms/step - loss: 0.2103 - auc: 0.9695 - accuracy: 0.9112\n",
            "1600/1600 [==============================] - 5s 3ms/step - loss: 0.1992 - auc: 0.9736 - accuracy: 0.9206\n",
            "Epoch 1/5\n",
            "6400/6400 [==============================] - 24s 4ms/step - loss: 0.3901 - auc: 0.8811 - accuracy: 0.8702\n",
            "Epoch 2/5\n",
            "6400/6400 [==============================] - 23s 4ms/step - loss: 0.3654 - auc: 0.9345 - accuracy: 0.8702\n",
            "Epoch 3/5\n",
            "6400/6400 [==============================] - 24s 4ms/step - loss: 0.2779 - auc: 0.9548 - accuracy: 0.8791\n",
            "Epoch 4/5\n",
            "6400/6400 [==============================] - 24s 4ms/step - loss: 0.2256 - auc: 0.9660 - accuracy: 0.9061\n",
            "Epoch 5/5\n",
            "6400/6400 [==============================] - 24s 4ms/step - loss: 0.2087 - auc: 0.9701 - accuracy: 0.9133\n",
            "1600/1600 [==============================] - 5s 3ms/step - loss: 0.2046 - auc: 0.9728 - accuracy: 0.9136\n",
            "Epoch 1/5\n",
            "6400/6400 [==============================] - 24s 4ms/step - loss: 0.2921 - auc: 0.9492 - accuracy: 0.8824\n",
            "Epoch 2/5\n",
            "6400/6400 [==============================] - 23s 4ms/step - loss: 0.2351 - auc: 0.9646 - accuracy: 0.9065\n",
            "Epoch 3/5\n",
            "6400/6400 [==============================] - 23s 4ms/step - loss: 0.2384 - auc: 0.9635 - accuracy: 0.9060\n",
            "Epoch 4/5\n",
            "6400/6400 [==============================] - 23s 4ms/step - loss: 0.3851 - auc: 0.8718 - accuracy: 0.8709\n",
            "Epoch 5/5\n",
            "6400/6400 [==============================] - 23s 4ms/step - loss: 0.3851 - auc: 0.8697 - accuracy: 0.8709\n",
            "1600/1600 [==============================] - 5s 3ms/step - loss: 0.3927 - auc: 0.8667 - accuracy: 0.8667\n",
            "Epoch 1/5\n",
            "6400/6400 [==============================] - 24s 4ms/step - loss: 0.3890 - auc: 0.8718 - accuracy: 0.8700\n",
            "Epoch 2/5\n",
            "6400/6400 [==============================] - 24s 4ms/step - loss: 0.3879 - auc: 0.8696 - accuracy: 0.8699\n",
            "Epoch 3/5\n",
            "6400/6400 [==============================] - 23s 4ms/step - loss: 0.3867 - auc: 0.8695 - accuracy: 0.8700\n",
            "Epoch 4/5\n",
            "6400/6400 [==============================] - 23s 4ms/step - loss: 0.3868 - auc: 0.8694 - accuracy: 0.8700\n",
            "Epoch 5/5\n",
            "6400/6400 [==============================] - 23s 4ms/step - loss: 0.3867 - auc: 0.8705 - accuracy: 0.8700\n",
            "1600/1600 [==============================] - 5s 3ms/step - loss: 0.3859 - auc: 0.8703 - accuracy: 0.8703\n",
            "Epoch 1/5\n",
            "6400/6400 [==============================] - 24s 4ms/step - loss: 0.3917 - auc: 0.8699 - accuracy: 0.8689\n",
            "Epoch 2/5\n",
            "6400/6400 [==============================] - 24s 4ms/step - loss: 0.3887 - auc: 0.8701 - accuracy: 0.8689\n",
            "Epoch 3/5\n",
            "6400/6400 [==============================] - 24s 4ms/step - loss: 0.3889 - auc: 0.8679 - accuracy: 0.8689\n",
            "Epoch 4/5\n",
            "6400/6400 [==============================] - 24s 4ms/step - loss: 0.3888 - auc: 0.8688 - accuracy: 0.8689\n",
            "Epoch 5/5\n",
            "6400/6400 [==============================] - 24s 4ms/step - loss: 0.3888 - auc: 0.8686 - accuracy: 0.8689\n",
            "1600/1600 [==============================] - 5s 3ms/step - loss: 0.3777 - auc: 0.8746 - accuracy: 0.8746\n",
            "Epoch 1/5\n",
            "6400/6400 [==============================] - 24s 4ms/step - loss: 0.3885 - auc: 0.8725 - accuracy: 0.8702\n",
            "Epoch 2/5\n",
            "6400/6400 [==============================] - 24s 4ms/step - loss: 0.3862 - auc: 0.8710 - accuracy: 0.8702\n",
            "Epoch 3/5\n",
            "6400/6400 [==============================] - 24s 4ms/step - loss: 0.3863 - auc: 0.8691 - accuracy: 0.8702\n",
            "Epoch 4/5\n",
            "6400/6400 [==============================] - 24s 4ms/step - loss: 0.3863 - auc: 0.8696 - accuracy: 0.8702\n",
            "Epoch 5/5\n",
            "6400/6400 [==============================] - 24s 4ms/step - loss: 0.3863 - auc: 0.8695 - accuracy: 0.8702\n",
            "1600/1600 [==============================] - 5s 3ms/step - loss: 0.3877 - auc: 0.8693 - accuracy: 0.8693\n",
            "Epoch 1/5\n",
            "6400/6400 [==============================] - 25s 4ms/step - loss: 0.2754 - auc: 0.9512 - accuracy: 0.8895\n",
            "Epoch 2/5\n",
            "6400/6400 [==============================] - 24s 4ms/step - loss: 0.2320 - auc: 0.9653 - accuracy: 0.9081\n",
            "Epoch 3/5\n",
            "6400/6400 [==============================] - 24s 4ms/step - loss: 0.2113 - auc: 0.9693 - accuracy: 0.9149\n",
            "Epoch 4/5\n",
            "6400/6400 [==============================] - 24s 4ms/step - loss: 0.2048 - auc: 0.9707 - accuracy: 0.9174\n",
            "Epoch 5/5\n",
            "6400/6400 [==============================] - 24s 4ms/step - loss: 0.2011 - auc: 0.9720 - accuracy: 0.9186\n",
            "1600/1600 [==============================] - 5s 3ms/step - loss: 0.1806 - auc: 0.9755 - accuracy: 0.9262\n",
            "Epoch 1/5\n",
            "6400/6400 [==============================] - 24s 4ms/step - loss: 0.3055 - auc: 0.9410 - accuracy: 0.8847\n",
            "Epoch 2/5\n",
            "6400/6400 [==============================] - 24s 4ms/step - loss: 0.2105 - auc: 0.9694 - accuracy: 0.9121\n",
            "Epoch 3/5\n",
            "6400/6400 [==============================] - 24s 4ms/step - loss: 0.1977 - auc: 0.9726 - accuracy: 0.9180\n",
            "Epoch 4/5\n",
            "6400/6400 [==============================] - 24s 4ms/step - loss: 0.1927 - auc: 0.9735 - accuracy: 0.9204\n",
            "Epoch 5/5\n",
            "6400/6400 [==============================] - 24s 4ms/step - loss: 0.1904 - auc: 0.9740 - accuracy: 0.9216\n",
            "1600/1600 [==============================] - 5s 3ms/step - loss: 0.1893 - auc: 0.9722 - accuracy: 0.9216\n",
            "Epoch 1/5\n",
            "6400/6400 [==============================] - 25s 4ms/step - loss: 0.3044 - auc: 0.9421 - accuracy: 0.8827\n",
            "Epoch 2/5\n",
            "6400/6400 [==============================] - 24s 4ms/step - loss: 0.2104 - auc: 0.9696 - accuracy: 0.9122\n",
            "Epoch 3/5\n",
            "6400/6400 [==============================] - 24s 4ms/step - loss: 0.1977 - auc: 0.9723 - accuracy: 0.9178\n",
            "Epoch 4/5\n",
            "6400/6400 [==============================] - 24s 4ms/step - loss: 0.1926 - auc: 0.9736 - accuracy: 0.9210\n",
            "Epoch 5/5\n",
            "6400/6400 [==============================] - 24s 4ms/step - loss: 0.1879 - auc: 0.9746 - accuracy: 0.9234\n",
            "1600/1600 [==============================] - 5s 3ms/step - loss: 0.2585 - auc: 0.9614 - accuracy: 0.8909\n",
            "Epoch 1/5\n",
            "6400/6400 [==============================] - 24s 4ms/step - loss: 0.3062 - auc: 0.9413 - accuracy: 0.8826\n",
            "Epoch 2/5\n",
            "6400/6400 [==============================] - 24s 4ms/step - loss: 0.2099 - auc: 0.9695 - accuracy: 0.9126\n",
            "Epoch 3/5\n",
            "6400/6400 [==============================] - 23s 4ms/step - loss: 0.1981 - auc: 0.9721 - accuracy: 0.9178\n",
            "Epoch 4/5\n",
            "6400/6400 [==============================] - 23s 4ms/step - loss: 0.1923 - auc: 0.9736 - accuracy: 0.9210\n",
            "Epoch 5/5\n",
            "6400/6400 [==============================] - 23s 4ms/step - loss: 0.1887 - auc: 0.9743 - accuracy: 0.9223\n",
            "1600/1600 [==============================] - 5s 3ms/step - loss: 0.1827 - auc: 0.9741 - accuracy: 0.9264\n",
            "Epoch 1/5\n",
            "6400/6400 [==============================] - 24s 4ms/step - loss: 0.3084 - auc: 0.9403 - accuracy: 0.8824\n",
            "Epoch 2/5\n",
            "6400/6400 [==============================] - 24s 4ms/step - loss: 0.2115 - auc: 0.9694 - accuracy: 0.9110\n",
            "Epoch 3/5\n",
            "6400/6400 [==============================] - 24s 4ms/step - loss: 0.1982 - auc: 0.9722 - accuracy: 0.9184\n",
            "Epoch 4/5\n",
            "6400/6400 [==============================] - 24s 4ms/step - loss: 0.1929 - auc: 0.9737 - accuracy: 0.9195\n",
            "Epoch 5/5\n",
            "6400/6400 [==============================] - 24s 4ms/step - loss: 0.1900 - auc: 0.9739 - accuracy: 0.9228\n",
            "1600/1600 [==============================] - 5s 3ms/step - loss: 0.1775 - auc: 0.9779 - accuracy: 0.9298\n",
            "Epoch 1/5\n",
            "6400/6400 [==============================] - 25s 4ms/step - loss: 0.3071 - auc: 0.9407 - accuracy: 0.8827\n",
            "Epoch 2/5\n",
            "6400/6400 [==============================] - 24s 4ms/step - loss: 0.2110 - auc: 0.9694 - accuracy: 0.9126\n",
            "Epoch 3/5\n",
            "6400/6400 [==============================] - 24s 4ms/step - loss: 0.1972 - auc: 0.9725 - accuracy: 0.9183\n",
            "Epoch 4/5\n",
            "6400/6400 [==============================] - 24s 4ms/step - loss: 0.1932 - auc: 0.9734 - accuracy: 0.9205\n",
            "Epoch 5/5\n",
            "6400/6400 [==============================] - 24s 4ms/step - loss: 0.1903 - auc: 0.9739 - accuracy: 0.9218\n",
            "1600/1600 [==============================] - 5s 3ms/step - loss: 0.1798 - auc: 0.9777 - accuracy: 0.9258\n",
            "Epoch 1/5\n",
            "8000/8000 [==============================] - 30s 4ms/step - loss: 0.2907 - auc: 0.9467 - accuracy: 0.8870\n",
            "Epoch 2/5\n",
            "8000/8000 [==============================] - 30s 4ms/step - loss: 0.2037 - auc: 0.9712 - accuracy: 0.9144\n",
            "Epoch 3/5\n",
            "8000/8000 [==============================] - 30s 4ms/step - loss: 0.1939 - auc: 0.9730 - accuracy: 0.9202\n",
            "Epoch 4/5\n",
            "8000/8000 [==============================] - 29s 4ms/step - loss: 0.1901 - auc: 0.9742 - accuracy: 0.9219\n",
            "Epoch 5/5\n",
            "8000/8000 [==============================] - 30s 4ms/step - loss: 0.1865 - auc: 0.9749 - accuracy: 0.9242\n"
          ]
        }
      ]
    },
    {
      "cell_type": "code",
      "source": [
        "print(search_res.best_score_)\n",
        "print(search_res.best_params_)"
      ],
      "metadata": {
        "id": "m7NKBOCYAAq4",
        "colab": {
          "base_uri": "https://localhost:8080/"
        },
        "outputId": "98c6e53b-7d98-4e3c-ddab-42543c49308a"
      },
      "execution_count": null,
      "outputs": [
        {
          "output_type": "stream",
          "name": "stdout",
          "text": [
            "0.9188874959945679\n",
            "{'list_activation': 'relu', 'list_lr': 0.0001}\n"
          ]
        }
      ]
    },
    {
      "cell_type": "code",
      "source": [
        "##https://keras.io/getting-started/faq/#how-can-i-obtain-reproducible-results-using-keras-during-development\n",
        "\n",
        "# Model with best hyperparameters Activation : relu and learning rate : 0.0001\n",
        "\n",
        "os.environ['PYTHONHASHSEED'] = '0'\n",
        "tf.keras.backend.clear_session()\n",
        "\n",
        "input_layer = tf.keras.layers.Input(shape=(X_train_pooled_output.shape[1],))\n",
        "\n",
        "dense_1 = tf.keras.layers.Dense(64,activation='relu',kernel_initializer=tf.keras.initializers.RandomNormal(seed=25),name = 'dense_1')(input_layer)\n",
        "dense_2 = tf.keras.layers.Dense(64,activation='relu',kernel_initializer=tf.keras.initializers.RandomNormal(seed=25),name = 'dense_2')(dense_1)\n",
        "dense_3 = tf.keras.layers.Dense(64,activation='relu',kernel_initializer=tf.keras.initializers.RandomNormal(seed=25),name = 'dense_3')(dense_2)\n",
        "dense_4 = tf.keras.layers.Dense(64,activation='relu',kernel_initializer=tf.keras.initializers.RandomNormal(seed=25),name = 'dense_4')(dense_3)\n",
        "\n",
        "output_layer = tf.keras.layers.Dense(2,activation='softmax',kernel_initializer=tf.keras.initializers.RandomNormal(seed=30),name = 'output_layer')(dense_4)\n",
        "\n",
        "final_model_1 = tf.keras.models.Model(inputs=input_layer,outputs=output_layer)\n",
        "\n",
        "final_model_1.summary()"
      ],
      "metadata": {
        "id": "nG28IbuH_ipF",
        "colab": {
          "base_uri": "https://localhost:8080/"
        },
        "outputId": "036fad9e-1293-4b21-d616-ed9355b0a1f3"
      },
      "execution_count": null,
      "outputs": [
        {
          "output_type": "stream",
          "name": "stdout",
          "text": [
            "Model: \"model\"\n",
            "_________________________________________________________________\n",
            " Layer (type)                Output Shape              Param #   \n",
            "=================================================================\n",
            " input_1 (InputLayer)        [(None, 768)]             0         \n",
            "                                                                 \n",
            " dense_1 (Dense)             (None, 64)                49216     \n",
            "                                                                 \n",
            " dense_2 (Dense)             (None, 64)                4160      \n",
            "                                                                 \n",
            " dense_3 (Dense)             (None, 64)                4160      \n",
            "                                                                 \n",
            " dense_4 (Dense)             (None, 64)                4160      \n",
            "                                                                 \n",
            " output_layer (Dense)        (None, 2)                 130       \n",
            "                                                                 \n",
            "=================================================================\n",
            "Total params: 61,826\n",
            "Trainable params: 61,826\n",
            "Non-trainable params: 0\n",
            "_________________________________________________________________\n"
          ]
        }
      ]
    },
    {
      "cell_type": "code",
      "source": [
        "plot_model(final_model_1)"
      ],
      "metadata": {
        "id": "BhzWoZaLEwv6",
        "colab": {
          "base_uri": "https://localhost:8080/",
          "height": 564
        },
        "outputId": "da8a7a44-1990-4afd-98d8-9e78c1428f8d"
      },
      "execution_count": null,
      "outputs": [
        {
          "output_type": "execute_result",
          "data": {
            "image/png": "[encoded data removed]",
            "text/plain": [
              "<IPython.core.display.Image object>"
            ]
          },
          "metadata": {},
          "execution_count": 55
        }
      ]
    },
    {
      "cell_type": "code",
      "source": [
        "final_model_1.compile(optimizer=tf.keras.optimizers.Adam(learning_rate=0.0001),loss='binary_crossentropy',metrics=['AUC','accuracy'])"
      ],
      "metadata": {
        "id": "u-9vEwCZixvU"
      },
      "execution_count": null,
      "outputs": []
    },
    {
      "cell_type": "code",
      "source": [
        "final_model_1.fit(X_train_pooled_output, score_train, batch_size=10, epochs=10, validation_data=(X_test_pooled_output,score_test))"
      ],
      "metadata": {
        "id": "5y6wMIO0Ezfz",
        "colab": {
          "base_uri": "https://localhost:8080/"
        },
        "outputId": "618e732d-2b81-4b70-df16-e8569fd1074a"
      },
      "execution_count": null,
      "outputs": [
        {
          "output_type": "stream",
          "name": "stdout",
          "text": [
            "Epoch 1/10\n",
            "8000/8000 [==============================] - 35s 4ms/step - loss: 0.2836 - auc: 0.9492 - accuracy: 0.8887 - val_loss: 0.2155 - val_auc: 0.9707 - val_accuracy: 0.9074\n",
            "Epoch 2/10\n",
            "8000/8000 [==============================] - 34s 4ms/step - loss: 0.2036 - auc: 0.9709 - accuracy: 0.9153 - val_loss: 0.1958 - val_auc: 0.9711 - val_accuracy: 0.9194\n",
            "Epoch 3/10\n",
            "8000/8000 [==============================] - 34s 4ms/step - loss: 0.1942 - auc: 0.9729 - accuracy: 0.9209 - val_loss: 0.1863 - val_auc: 0.9761 - val_accuracy: 0.9243\n",
            "Epoch 4/10\n",
            "8000/8000 [==============================] - 34s 4ms/step - loss: 0.1884 - auc: 0.9746 - accuracy: 0.9236 - val_loss: 0.1867 - val_auc: 0.9752 - val_accuracy: 0.9248\n",
            "Epoch 5/10\n",
            "8000/8000 [==============================] - 34s 4ms/step - loss: 0.1855 - auc: 0.9752 - accuracy: 0.9242 - val_loss: 0.1944 - val_auc: 0.9702 - val_accuracy: 0.9205\n",
            "Epoch 6/10\n",
            "8000/8000 [==============================] - 34s 4ms/step - loss: 0.1830 - auc: 0.9756 - accuracy: 0.9251 - val_loss: 0.1893 - val_auc: 0.9723 - val_accuracy: 0.9210\n",
            "Epoch 7/10\n",
            "8000/8000 [==============================] - 34s 4ms/step - loss: 0.1812 - auc: 0.9761 - accuracy: 0.9259 - val_loss: 0.1863 - val_auc: 0.9782 - val_accuracy: 0.9269\n",
            "Epoch 8/10\n",
            "8000/8000 [==============================] - 35s 4ms/step - loss: 0.1793 - auc: 0.9765 - accuracy: 0.9270 - val_loss: 0.1862 - val_auc: 0.9720 - val_accuracy: 0.9266\n",
            "Epoch 9/10\n",
            "8000/8000 [==============================] - 34s 4ms/step - loss: 0.1772 - auc: 0.9769 - accuracy: 0.9273 - val_loss: 0.1761 - val_auc: 0.9783 - val_accuracy: 0.9287\n",
            "Epoch 10/10\n",
            "8000/8000 [==============================] - 34s 4ms/step - loss: 0.1756 - auc: 0.9774 - accuracy: 0.9282 - val_loss: 0.1736 - val_auc: 0.9772 - val_accuracy: 0.9312\n"
          ]
        },
        {
          "output_type": "execute_result",
          "data": {
            "text/plain": [
              "<keras.callbacks.History at 0x7f8f27524c90>"
            ]
          },
          "metadata": {},
          "execution_count": 57
        }
      ]
    },
    {
      "cell_type": "markdown",
      "metadata": {
        "id": "pZc7XTQOxcIO"
      },
      "source": [
        "## 6. Observations"
      ]
    },
    {
      "cell_type": "markdown",
      "source": [
        "#### 1.   We observe that the data is highly unbalanced due to which we obtain a high accuracy and a large AUC from the very beginning.\n",
        "#### 2.   A large number of datapoints have class label 1. As a result, the best hyperparameter value (learning rate) is very small i.e. 0.0001\n",
        "#### 3.   If we want to make any significant improvement, the learning rate must be kept lower. This will help us to make correct predictions."
      ],
      "metadata": {
        "id": "5JBwZogwgpcu"
      }
    }
  ]
}